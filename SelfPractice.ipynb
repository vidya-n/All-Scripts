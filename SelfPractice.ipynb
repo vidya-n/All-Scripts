{
 "cells": [
  {
   "cell_type": "code",
   "execution_count": null,
   "id": "16aceab1-8d67-49cf-b5ba-b01575396c8e",
   "metadata": {},
   "outputs": [],
   "source": [
    "#armstrong \n",
    "num = raw_input(\"Enter a three digit number to check if its a armstrong number: \")\n",
    "a = str(num)\n",
    "b = int(num)\n",
    "if (b>=100 and b<=999):\n",
    "    dig1 = int(a[0])\n",
    "    dig2 = int(a[1])\n",
    "    dig3 = int(a[2])\n",
    "    sum1 = (dig1**3) + (dig2**3) + (dig3**3)\n",
    "    print (\"\\n\\nSum of cubes of digits is: \" + str(sum1))\n",
    "    if (b == sum1):\n",
    "        print (\"\\n\\n\" + num + \" is an armstrong number.\")\n",
    "    else:\n",
    "        print (\"\\n\\n\" + num + \" is not an armstrong number.\")\n",
    "\n",
    "else:\n",
    "    print (\"\\n\\n\" + num + \" is not an three digit number.\")\n",
    "\n",
    "x = raw_input(\"\\n\\nPress any key to exit.\")"
   ]
  },
  {
   "cell_type": "code",
   "execution_count": null,
   "id": "2605b828-1189-4fbb-b47b-828fb6e82a6b",
   "metadata": {
    "metadata": {}
   },
   "outputs": [],
   "source": [
    "from flask import Flask\n",
    "\n",
    "app "
   ]
  },
  {
   "cell_type": "code",
   "execution_count": 1,
   "id": "65783296",
   "metadata": {},
   "outputs": [
    {
     "name": "stdout",
     "output_type": "stream",
     "text": [
      "Serving on port 8000...\n"
     ]
    },
    {
     "name": "stderr",
     "output_type": "stream",
     "text": [
      "127.0.0.1 - - [03/May/2024 09:49:40] \"GET / HTTP/1.1\" 200 41\n",
      "127.0.0.1 - - [03/May/2024 09:49:40] \"GET /favicon.ico HTTP/1.1\" 200 41\n",
      "127.0.0.1 - - [03/May/2024 09:50:50] \"GET / HTTP/1.1\" 200 41\n",
      "127.0.0.1 - - [03/May/2024 09:50:50] \"GET /favicon.ico HTTP/1.1\" 200 41\n"
     ]
    }
   ],
   "source": [
    "from wsgiref.simple_server import make_server\n",
    "\n",
    "# Define a WSGI application\n",
    "def simple_app(environ, start_response):\n",
    "    # Set the HTTP status code and response headers\n",
    "    status = '200 OK'\n",
    "    headers = [('Content-type', 'text/plain')]\n",
    "\n",
    "    # Start the HTTP response\n",
    "    start_response(status, headers)\n",
    "\n",
    "    # Return the response body\n",
    "    return [b\"Hello, World! This is a WSGI application.\"]\n",
    "\n",
    "# Create a WSGI server\n",
    "with make_server('', 8000, simple_app) as server:\n",
    "    print(\"Serving on port 8000...\")\n",
    "    # Serve the WSGI application indefinitely\n",
    "    server.serve_forever()\n"
   ]
  },
  {
   "cell_type": "code",
   "execution_count": 1,
   "id": "d5f98fe7",
   "metadata": {
    "metadata": {}
   },
   "outputs": [],
   "source": [
    "from flask import Flask\n",
    "\n",
    "app = Flask(__name__)\n",
    "\n",
    "@app.route('/')  # Defines a route for the root URL '/'\n",
    "def index():\n",
    "    return 'Hello, world!'\n",
    "\n",
    "@app.route('/hello/<name>')  # Defines a route with a variable 'name' in the URL\n",
    "def hello(name):\n",
    "    return f'Hello, {name}!'\n"
   ]
  },
  {
   "cell_type": "code",
   "execution_count": 16,
   "id": "62365ca8",
   "metadata": {
    "metadata": {}
   },
   "outputs": [
    {
     "name": "stdout",
     "output_type": "stream",
     "text": [
      "https://www.rapadocs.com/doctors/fadi-abouzahr\n",
      "https://www.rapadocs.com/doctors/flavio-alvarez\n",
      "https://www.rapadocs.com/doctors/lisa-o-cabrera\n",
      "https://www.rapadocs.com/doctors/timoteo-cabrera\n",
      "https://www.rapadocs.com/doctors/iliana-cardona\n",
      "https://www.rapadocs.com/doctors/michael-v-degaetano\n",
      "https://www.rapadocs.com/doctors/iliana-fred-miranda\n",
      "https://www.rapadocs.com/doctors/judith-hernandez\n",
      "https://www.rapadocs.com/doctors/r-allen-holub\n",
      "https://www.rapadocs.com/doctors/melissa-r-isbell\n",
      "https://www.rapadocs.com/doctors/brijesh-kapoor\n",
      "https://www.rapadocs.com/doctors/parmish-l-kohli\n",
      "https://www.rapadocs.com/doctors/alwin-lopez-toro\n",
      "https://www.rapadocs.com/doctors/shadi-mourad\n",
      "https://www.rapadocs.com/doctors/paraic-j-mulgrew\n",
      "https://www.rapadocs.com/doctors/aashish-kumar-pandey\n",
      "https://www.rapadocs.com/doctors/pablo-pergola\n",
      "https://www.rapadocs.com/doctors/jessica-l-pierce\n",
      "https://www.rapadocs.com/doctors/navid-q-saigal\n",
      "https://www.rapadocs.com/doctors/mohamed-shafiu\n",
      "https://www.rapadocs.com/doctors/rashid-sharaf\n",
      "https://www.rapadocs.com/doctors/matthias-simon\n",
      "https://www.rapadocs.com/doctors/christine-m-toth\n",
      "https://www.rapadocs.com/doctors/johanna-urena\n",
      "https://www.rapadocs.com/doctors/jose-antonio-velez\n",
      "https://www.rapadocs.com/doctors/v-herman-villarreal\n",
      "https://www.rapadocs.com/doctors/sohaib-zahid\n",
      "https://www.rapadocs.com/doctors/fahim-zaman\n",
      "https://www.rapadocs.com/doctors/carlos-h-zem\n",
      "29\n"
     ]
    }
   ],
   "source": [
    "import requests\n",
    "from lxml import html\n",
    "\n",
    "url = 'https://www.rapadocs.com/meet-the-doctors'\n",
    "base_url = 'https://www.rapadocs.com/'\n",
    "r = requests.get(url)\n",
    "\n",
    "tree = html.fromstring(r.content)\n",
    "doctors = tree.xpath('//a[contains(@href, \"doctors/\")]/@href')\n",
    "for doc in doctors:\n",
    "    full_url = base_url + doc\n",
    "    print(full_url)\n",
    "print(len(doctors))"
   ]
  },
  {
   "cell_type": "code",
   "execution_count": null,
   "id": "6d6006b1",
   "metadata": {},
   "outputs": [],
   "source": []
  }
 ],
 "metadata": {
  "kernelspec": {
   "display_name": "Python 3 (ipykernel)",
   "language": "python",
   "name": "python3"
  },
  "language_info": {
   "codemirror_mode": {
    "name": "ipython",
    "version": 3
   },
   "file_extension": ".py",
   "mimetype": "text/x-python",
   "name": "python",
   "nbconvert_exporter": "python",
   "pygments_lexer": "ipython3",
   "version": "3.10.11"
  }
 },
 "nbformat": 4,
 "nbformat_minor": 5
}
