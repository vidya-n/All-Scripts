{
 "cells": [
  {
   "cell_type": "code",
   "execution_count": null,
   "metadata": {},
   "outputs": [],
   "source": [
    "#armstrong check\n",
    "i = input('Give any number to check if it is an Armstrong: ')\n",
    "n = len(i)\n",
    "sum = 0\n",
    "\n",
    "for digit in i:\n",
    "    sum += int(digit) ** n\n",
    "\n",
    "if sum == int(i):\n",
    "    print(f\"{i} is an Armstrong number.\")\n",
    "else:\n",
    "    print(f\"{i} is not an Armstrong number.\")\n",
    "    \n"
   ]
  },
  {
   "cell_type": "code",
   "execution_count": 13,
   "id": "057c9fa6",
   "metadata": {},
   "outputs": [
    {
     "name": "stdout",
     "output_type": "stream",
     "text": [
      "[]\n"
     ]
    }
   ],
   "source": [
    "import requests\n",
    "from bs4 import BeautifulSoup\n",
    "\n",
    "# Define the URL\n",
    "url = \"https://www.jacksonparkhospital.org/directory/find-a-physician/\"\n",
    "\n",
    "# Send a GET request to the URL\n",
    "response = requests.get(url)\n",
    "#print(response.status_code)\n",
    "\n",
    "# Check if the request was successful\n",
    "if response.status_code == 200:\n",
    "    # Parse the HTML content using BeautifulSoup\n",
    "    soup = BeautifulSoup(response.content, \"html.parser\")\n",
    "    \n",
    "    # Extract the desired data from the parsed HTML\n",
    "    # Example: Extract all the links on the page\n",
    "    links = [link.get(\"href\") for link in soup.find_all(\"a\", class_=\"PhysiciansDetails\")]\n",
    "    print(links)\n",
    "    \n",
    "else:\n",
    "    print(\"Failed to retrieve data from the URL.\")\n"
   ]
  },
  {
   "cell_type": "code",
   "execution_count": null,
   "id": "9243254e",
   "metadata": {},
   "outputs": [],
   "source": [
    "import requests\n",
    "from bs4 import BeautifulSoup\n",
    "\n",
    "# Define the URL\n",
    "url = \"https://www.jacksonparkhospital.org/directory/find-a-physician/\"\n",
    "\n",
    "# Send a GET request to the URL\n",
    "response = requests.get(url)\n",
    "#print(response.status_code)\n",
    "\n",
    "# Check if the request was successful\n",
    "if response.status_code == 200:\n",
    "    # Parse the HTML content using BeautifulSoup\n",
    "    soup = BeautifulSoup(response.content, \"html.parser\")\n",
    "    \n",
    "    # Extract the desired data from the parsed HTML\n",
    "    # Example: Extract all the links on the page\n",
    "    links = soup.find_all(\"a\", class_=\"PhysiciansDetails\")\n",
    "    print(links)\n",
    "    \n",
    "    # Print the extracted data\n",
    "    for link in links:\n",
    "        print(link.get(\"href\"))\n",
    "else:\n",
    "    print(\"Failed to retrieve data from the URL.\")\n"
   ]
  },
  {
   "cell_type": "code",
   "execution_count": 5,
   "id": "9afefb98",
   "metadata": {},
   "outputs": [],
   "source": [
    "import requests\n",
    "from bs4 import BeautifulSoup\n",
    "\n",
    "# Define the URL\n",
    "url = \"https://www.jacksonparkhospital.org/directory/find-a-physician/\"\n",
    "\n",
    "# Send a GET request to the URL\n",
    "response = requests.get(url)\n",
    "#print(response.status_code)\n",
    "\n",
    "# Check if the request was successful\n",
    "if response.status_code == 200:\n",
    "    # Parse the HTML content using BeautifulSoup\n",
    "    soup = BeautifulSoup(response.content, \"html.parser\")\n",
    "\n",
    "    # Extract the provider information\n",
    "    providers = []\n",
    "    provider_elements = soup.find_all(\"div\", class_=\"provider\")\n",
    "    \n",
    "    for provider_element in provider_elements:\n",
    "        provider = {}\n",
    "        \n",
    "        # Extract the name\n",
    "        name_element = provider_element.find(\"h3\", class_=\"provider-name\")\n",
    "        provider[\"Name\"] = name_element.text.strip()\n",
    "        \n",
    "        # Extract the profile link\n",
    "        profile_link_element = provider_element.find(\"a\", class_=\"provider-link\")\n",
    "        provider[\"Profile Link\"] = profile_link_element[\"href\"]\n",
    "        \n",
    "        # Extract the specialty\n",
    "        specialty_element = provider_element.find(\"div\", class_=\"provider-specialty\")\n",
    "        provider[\"Specialty\"] = specialty_element.text.strip()\n",
    "        \n",
    "        # Extract the address\n",
    "        address_element = provider_element.find(\"div\", class_=\"provider-address\")\n",
    "        provider[\"Address\"] = address_element.text.strip()\n",
    "        \n",
    "        # Extract the email\n",
    "        email_element = provider_element.find(\"div\", class_=\"provider-email\")\n",
    "        provider[\"Email\"] = email_element.text.strip()\n",
    "        \n",
    "        # Extract the phone\n",
    "        phone_element = provider_element.find(\"div\", class_=\"provider-phone\")\n",
    "        provider[\"Phone\"] = phone_element.text.strip()\n",
    "        \n",
    "        providers.append(provider)\n",
    "    \n",
    "    # Print the extracted datav\n",
    "    for provider in providers:\n",
    "        print(provider)\n",
    "else:\n",
    "    print(\"Failed to retrieve data from the URL.\")\n"
   ]
  },
  {
   "cell_type": "code",
   "execution_count": null,
   "id": "22d095ba",
   "metadata": {},
   "outputs": [],
   "source": [
    "#Getting all the doctor links with pagination."
   ]
  },
  {
   "cell_type": "markdown",
   "metadata": {},
   "source": [
    "# Getting all the doctor urls form the search page."
   ]
  },
  {
   "cell_type": "code",
   "execution_count": 19,
   "id": "63aafe5b",
   "metadata": {},
   "outputs": [
    {
     "name": "stdout",
     "output_type": "stream",
     "text": [
      "[]\n",
      "[]\n",
      "[]\n"
     ]
    },
    {
     "data": {
      "text/plain": [
       "'for doctor in doctors:\\n    for link in doctor.find_all(\"a\"):\\n        print(link.text.strip()) # print the text of the link\\n        print(link[\\'href\\'])     # print the href of the link\\n    \\n#print(f\"Page {i} done\")\\n\\n#print(len(doctor_urls))'"
      ]
     },
     "execution_count": 19,
     "metadata": {},
     "output_type": "execute_result"
    }
   ],
   "source": [
    "import requests\n",
    "from bs4 import BeautifulSoup\n",
    "\n",
    "#domain = \"https://doctors.summithealthcare.net/find_a_doctor/\"\n",
    "\n",
    "doctor_names = []\n",
    "doctor_urls = []\n",
    "#for i in range(1, 104):\n",
    "url = 'https://doctors.valleyhealth.com/search?sort=networks%2Crelevance%2Cavailability_density_best&page=1'\n",
    "response = requests.get(url)\n",
    "soup = BeautifulSoup(response.content, \"html.parser\")\n",
    "\n",
    "doctors = soup.find_all('div', {'data-view': 'consumer-provider'})\n",
    "print(doctors)\n",
    "\n",
    "for doctor in doctors:\n",
    "    for link in doctor.find_all(\"a\"):\n",
    "        print(link.text.strip()) # print the text of the link\n",
    "        print(link['href'])     # print the href of the link\n",
    "    \n",
    "#print(f\"Page {i} done\")\n",
    "\n",
    "#print(len(doctor_urls))"
   ]
  },
  {
   "cell_type": "code",
   "execution_count": null,
   "id": "42d9e93e",
   "metadata": {},
   "outputs": [],
   "source": [
    "\n",
    "\"\"\"doctorlinks = []\n",
    "\n",
    "for doctor in doctors:\n",
    "    for link in doctor.find_all('a', href=True):\n",
    "        print(link['href'])\"\"\"\n",
    "        \n",
    "\"\"\"    print(f\"Page {i} done\")\n",
    "for i in range(1, 104):\n",
    "    r = requests.get(f'https://doctors.valleyhealth.com/search?sort=networks%2Crelevance%2Cavailability_density_best&page={i}')\n",
    "    soup = BeautifulSoup(r.content, 'html.parser')\n",
    "\n",
    "    doctors = soup.find_all('div', {'data-name': 'entity_field_post_title'})\n",
    "    for doctor in doctors:\n",
    "        for link in doctor.find_all('a', href=True):\n",
    "            print(link.text.strip()) # print the text of the link\n",
    "            print(link['href'])     # print the href of the link\n",
    "\"\"\""
   ]
  },
  {
   "cell_type": "code",
   "execution_count": 12,
   "id": "0831e7da",
   "metadata": {},
   "outputs": [
    {
     "name": "stdout",
     "output_type": "stream",
     "text": [
      "[]\n"
     ]
    }
   ],
   "source": [
    "print(doctor_names)"
   ]
  },
  {
   "cell_type": "code",
   "execution_count": 33,
   "id": "f32c0706",
   "metadata": {},
   "outputs": [
    {
     "name": "stdout",
     "output_type": "stream",
     "text": [
      "312\n",
      "['https://www.adventhealth.com/hospital/adventhealth-wesley-chapel/find-doctor/doctor/olufunke-abiose-md-1538360680', 'https://www.adventhealth.com/hospital/adventhealth-wesley-chapel/find-doctor/doctor/saeed-ahmed-md-1235228776', 'https://www.adventhealth.com/hospital/adventhealth-wesley-chapel/find-doctor/doctor/tashrique-alam-do-1821473299', 'https://www.adventhealth.com/hospital/adventhealth-wesley-chapel/find-doctor/doctor/anas-alsaleh-md-1538391065', 'https://www.adventhealth.com/hospital/adventhealth-wesley-chapel/find-doctor/doctor/paul-armstrong-do-1639143506', 'https://www.adventhealth.com/hospital/adventhealth-wesley-chapel/find-doctor/doctor/syed-aslam-md-1508826033', 'https://www.adventhealth.com/hospital/adventhealth-wesley-chapel/find-doctor/doctor/diego-ayo-md-1518197805', 'https://www.adventhealth.com/hospital/adventhealth-wesley-chapel/find-doctor/doctor/heidi-biringer-pa-1003832205', 'https://www.adventhealth.com/hospital/adventhealth-wesley-chapel/find-doctor/doctor/marc-bloom-md-1053337394', 'https://www.adventhealth.com/hospital/adventhealth-wesley-chapel/find-doctor/doctor/kelly-bolin-aprn-1417353665', 'https://www.adventhealth.com/hospital/adventhealth-wesley-chapel/find-doctor/doctor/jennifer-botkins-aprn-1780171157', 'https://www.adventhealth.com/hospital/adventhealth-wesley-chapel/find-doctor/doctor/martin-britos-bray-md-1598781924', 'https://www.adventhealth.com/hospital/adventhealth-wesley-chapel/find-doctor/doctor/olufunke-abiose-md-1538360680', 'https://www.adventhealth.com/hospital/adventhealth-wesley-chapel/find-doctor/doctor/saeed-ahmed-md-1235228776', 'https://www.adventhealth.com/hospital/adventhealth-wesley-chapel/find-doctor/doctor/tashrique-alam-do-1821473299', 'https://www.adventhealth.com/hospital/adventhealth-wesley-chapel/find-doctor/doctor/anas-alsaleh-md-1538391065', 'https://www.adventhealth.com/hospital/adventhealth-wesley-chapel/find-doctor/doctor/paul-armstrong-do-1639143506', 'https://www.adventhealth.com/hospital/adventhealth-wesley-chapel/find-doctor/doctor/syed-aslam-md-1508826033', 'https://www.adventhealth.com/hospital/adventhealth-wesley-chapel/find-doctor/doctor/diego-ayo-md-1518197805', 'https://www.adventhealth.com/hospital/adventhealth-wesley-chapel/find-doctor/doctor/heidi-biringer-pa-1003832205', 'https://www.adventhealth.com/hospital/adventhealth-wesley-chapel/find-doctor/doctor/marc-bloom-md-1053337394', 'https://www.adventhealth.com/hospital/adventhealth-wesley-chapel/find-doctor/doctor/kelly-bolin-aprn-1417353665', 'https://www.adventhealth.com/hospital/adventhealth-wesley-chapel/find-doctor/doctor/jennifer-botkins-aprn-1780171157', 'https://www.adventhealth.com/hospital/adventhealth-wesley-chapel/find-doctor/doctor/martin-britos-bray-md-1598781924', 'https://www.adventhealth.com/hospital/adventhealth-wesley-chapel/find-doctor/doctor/olufunke-abiose-md-1538360680', 'https://www.adventhealth.com/hospital/adventhealth-wesley-chapel/find-doctor/doctor/saeed-ahmed-md-1235228776', 'https://www.adventhealth.com/hospital/adventhealth-wesley-chapel/find-doctor/doctor/tashrique-alam-do-1821473299', 'https://www.adventhealth.com/hospital/adventhealth-wesley-chapel/find-doctor/doctor/anas-alsaleh-md-1538391065', 'https://www.adventhealth.com/hospital/adventhealth-wesley-chapel/find-doctor/doctor/paul-armstrong-do-1639143506', 'https://www.adventhealth.com/hospital/adventhealth-wesley-chapel/find-doctor/doctor/syed-aslam-md-1508826033', 'https://www.adventhealth.com/hospital/adventhealth-wesley-chapel/find-doctor/doctor/diego-ayo-md-1518197805', 'https://www.adventhealth.com/hospital/adventhealth-wesley-chapel/find-doctor/doctor/heidi-biringer-pa-1003832205', 'https://www.adventhealth.com/hospital/adventhealth-wesley-chapel/find-doctor/doctor/marc-bloom-md-1053337394', 'https://www.adventhealth.com/hospital/adventhealth-wesley-chapel/find-doctor/doctor/kelly-bolin-aprn-1417353665', 'https://www.adventhealth.com/hospital/adventhealth-wesley-chapel/find-doctor/doctor/jennifer-botkins-aprn-1780171157', 'https://www.adventhealth.com/hospital/adventhealth-wesley-chapel/find-doctor/doctor/martin-britos-bray-md-1598781924', 'https://www.adventhealth.com/hospital/adventhealth-wesley-chapel/find-doctor/doctor/olufunke-abiose-md-1538360680', 'https://www.adventhealth.com/hospital/adventhealth-wesley-chapel/find-doctor/doctor/saeed-ahmed-md-1235228776', 'https://www.adventhealth.com/hospital/adventhealth-wesley-chapel/find-doctor/doctor/tashrique-alam-do-1821473299', 'https://www.adventhealth.com/hospital/adventhealth-wesley-chapel/find-doctor/doctor/anas-alsaleh-md-1538391065', 'https://www.adventhealth.com/hospital/adventhealth-wesley-chapel/find-doctor/doctor/paul-armstrong-do-1639143506', 'https://www.adventhealth.com/hospital/adventhealth-wesley-chapel/find-doctor/doctor/syed-aslam-md-1508826033', 'https://www.adventhealth.com/hospital/adventhealth-wesley-chapel/find-doctor/doctor/diego-ayo-md-1518197805', 'https://www.adventhealth.com/hospital/adventhealth-wesley-chapel/find-doctor/doctor/heidi-biringer-pa-1003832205', 'https://www.adventhealth.com/hospital/adventhealth-wesley-chapel/find-doctor/doctor/marc-bloom-md-1053337394', 'https://www.adventhealth.com/hospital/adventhealth-wesley-chapel/find-doctor/doctor/kelly-bolin-aprn-1417353665', 'https://www.adventhealth.com/hospital/adventhealth-wesley-chapel/find-doctor/doctor/jennifer-botkins-aprn-1780171157', 'https://www.adventhealth.com/hospital/adventhealth-wesley-chapel/find-doctor/doctor/martin-britos-bray-md-1598781924', 'https://www.adventhealth.com/hospital/adventhealth-wesley-chapel/find-doctor/doctor/olufunke-abiose-md-1538360680', 'https://www.adventhealth.com/hospital/adventhealth-wesley-chapel/find-doctor/doctor/saeed-ahmed-md-1235228776', 'https://www.adventhealth.com/hospital/adventhealth-wesley-chapel/find-doctor/doctor/tashrique-alam-do-1821473299', 'https://www.adventhealth.com/hospital/adventhealth-wesley-chapel/find-doctor/doctor/anas-alsaleh-md-1538391065', 'https://www.adventhealth.com/hospital/adventhealth-wesley-chapel/find-doctor/doctor/paul-armstrong-do-1639143506', 'https://www.adventhealth.com/hospital/adventhealth-wesley-chapel/find-doctor/doctor/syed-aslam-md-1508826033', 'https://www.adventhealth.com/hospital/adventhealth-wesley-chapel/find-doctor/doctor/diego-ayo-md-1518197805', 'https://www.adventhealth.com/hospital/adventhealth-wesley-chapel/find-doctor/doctor/heidi-biringer-pa-1003832205', 'https://www.adventhealth.com/hospital/adventhealth-wesley-chapel/find-doctor/doctor/marc-bloom-md-1053337394', 'https://www.adventhealth.com/hospital/adventhealth-wesley-chapel/find-doctor/doctor/kelly-bolin-aprn-1417353665', 'https://www.adventhealth.com/hospital/adventhealth-wesley-chapel/find-doctor/doctor/jennifer-botkins-aprn-1780171157', 'https://www.adventhealth.com/hospital/adventhealth-wesley-chapel/find-doctor/doctor/martin-britos-bray-md-1598781924', 'https://www.adventhealth.com/hospital/adventhealth-wesley-chapel/find-doctor/doctor/olufunke-abiose-md-1538360680', 'https://www.adventhealth.com/hospital/adventhealth-wesley-chapel/find-doctor/doctor/saeed-ahmed-md-1235228776', 'https://www.adventhealth.com/hospital/adventhealth-wesley-chapel/find-doctor/doctor/tashrique-alam-do-1821473299', 'https://www.adventhealth.com/hospital/adventhealth-wesley-chapel/find-doctor/doctor/anas-alsaleh-md-1538391065', 'https://www.adventhealth.com/hospital/adventhealth-wesley-chapel/find-doctor/doctor/paul-armstrong-do-1639143506', 'https://www.adventhealth.com/hospital/adventhealth-wesley-chapel/find-doctor/doctor/syed-aslam-md-1508826033', 'https://www.adventhealth.com/hospital/adventhealth-wesley-chapel/find-doctor/doctor/diego-ayo-md-1518197805', 'https://www.adventhealth.com/hospital/adventhealth-wesley-chapel/find-doctor/doctor/heidi-biringer-pa-1003832205', 'https://www.adventhealth.com/hospital/adventhealth-wesley-chapel/find-doctor/doctor/marc-bloom-md-1053337394', 'https://www.adventhealth.com/hospital/adventhealth-wesley-chapel/find-doctor/doctor/kelly-bolin-aprn-1417353665', 'https://www.adventhealth.com/hospital/adventhealth-wesley-chapel/find-doctor/doctor/jennifer-botkins-aprn-1780171157', 'https://www.adventhealth.com/hospital/adventhealth-wesley-chapel/find-doctor/doctor/martin-britos-bray-md-1598781924', 'https://www.adventhealth.com/hospital/adventhealth-wesley-chapel/find-doctor/doctor/olufunke-abiose-md-1538360680', 'https://www.adventhealth.com/hospital/adventhealth-wesley-chapel/find-doctor/doctor/saeed-ahmed-md-1235228776', 'https://www.adventhealth.com/hospital/adventhealth-wesley-chapel/find-doctor/doctor/tashrique-alam-do-1821473299', 'https://www.adventhealth.com/hospital/adventhealth-wesley-chapel/find-doctor/doctor/anas-alsaleh-md-1538391065', 'https://www.adventhealth.com/hospital/adventhealth-wesley-chapel/find-doctor/doctor/paul-armstrong-do-1639143506', 'https://www.adventhealth.com/hospital/adventhealth-wesley-chapel/find-doctor/doctor/syed-aslam-md-1508826033', 'https://www.adventhealth.com/hospital/adventhealth-wesley-chapel/find-doctor/doctor/diego-ayo-md-1518197805', 'https://www.adventhealth.com/hospital/adventhealth-wesley-chapel/find-doctor/doctor/heidi-biringer-pa-1003832205', 'https://www.adventhealth.com/hospital/adventhealth-wesley-chapel/find-doctor/doctor/marc-bloom-md-1053337394', 'https://www.adventhealth.com/hospital/adventhealth-wesley-chapel/find-doctor/doctor/kelly-bolin-aprn-1417353665', 'https://www.adventhealth.com/hospital/adventhealth-wesley-chapel/find-doctor/doctor/jennifer-botkins-aprn-1780171157', 'https://www.adventhealth.com/hospital/adventhealth-wesley-chapel/find-doctor/doctor/martin-britos-bray-md-1598781924', 'https://www.adventhealth.com/hospital/adventhealth-wesley-chapel/find-doctor/doctor/olufunke-abiose-md-1538360680', 'https://www.adventhealth.com/hospital/adventhealth-wesley-chapel/find-doctor/doctor/saeed-ahmed-md-1235228776', 'https://www.adventhealth.com/hospital/adventhealth-wesley-chapel/find-doctor/doctor/tashrique-alam-do-1821473299', 'https://www.adventhealth.com/hospital/adventhealth-wesley-chapel/find-doctor/doctor/anas-alsaleh-md-1538391065', 'https://www.adventhealth.com/hospital/adventhealth-wesley-chapel/find-doctor/doctor/paul-armstrong-do-1639143506', 'https://www.adventhealth.com/hospital/adventhealth-wesley-chapel/find-doctor/doctor/syed-aslam-md-1508826033', 'https://www.adventhealth.com/hospital/adventhealth-wesley-chapel/find-doctor/doctor/diego-ayo-md-1518197805', 'https://www.adventhealth.com/hospital/adventhealth-wesley-chapel/find-doctor/doctor/heidi-biringer-pa-1003832205', 'https://www.adventhealth.com/hospital/adventhealth-wesley-chapel/find-doctor/doctor/marc-bloom-md-1053337394', 'https://www.adventhealth.com/hospital/adventhealth-wesley-chapel/find-doctor/doctor/kelly-bolin-aprn-1417353665', 'https://www.adventhealth.com/hospital/adventhealth-wesley-chapel/find-doctor/doctor/jennifer-botkins-aprn-1780171157', 'https://www.adventhealth.com/hospital/adventhealth-wesley-chapel/find-doctor/doctor/martin-britos-bray-md-1598781924', 'https://www.adventhealth.com/hospital/adventhealth-wesley-chapel/find-doctor/doctor/olufunke-abiose-md-1538360680', 'https://www.adventhealth.com/hospital/adventhealth-wesley-chapel/find-doctor/doctor/saeed-ahmed-md-1235228776', 'https://www.adventhealth.com/hospital/adventhealth-wesley-chapel/find-doctor/doctor/tashrique-alam-do-1821473299', 'https://www.adventhealth.com/hospital/adventhealth-wesley-chapel/find-doctor/doctor/anas-alsaleh-md-1538391065', 'https://www.adventhealth.com/hospital/adventhealth-wesley-chapel/find-doctor/doctor/paul-armstrong-do-1639143506', 'https://www.adventhealth.com/hospital/adventhealth-wesley-chapel/find-doctor/doctor/syed-aslam-md-1508826033', 'https://www.adventhealth.com/hospital/adventhealth-wesley-chapel/find-doctor/doctor/diego-ayo-md-1518197805', 'https://www.adventhealth.com/hospital/adventhealth-wesley-chapel/find-doctor/doctor/heidi-biringer-pa-1003832205', 'https://www.adventhealth.com/hospital/adventhealth-wesley-chapel/find-doctor/doctor/marc-bloom-md-1053337394', 'https://www.adventhealth.com/hospital/adventhealth-wesley-chapel/find-doctor/doctor/kelly-bolin-aprn-1417353665', 'https://www.adventhealth.com/hospital/adventhealth-wesley-chapel/find-doctor/doctor/jennifer-botkins-aprn-1780171157', 'https://www.adventhealth.com/hospital/adventhealth-wesley-chapel/find-doctor/doctor/martin-britos-bray-md-1598781924', 'https://www.adventhealth.com/hospital/adventhealth-wesley-chapel/find-doctor/doctor/olufunke-abiose-md-1538360680', 'https://www.adventhealth.com/hospital/adventhealth-wesley-chapel/find-doctor/doctor/saeed-ahmed-md-1235228776', 'https://www.adventhealth.com/hospital/adventhealth-wesley-chapel/find-doctor/doctor/tashrique-alam-do-1821473299', 'https://www.adventhealth.com/hospital/adventhealth-wesley-chapel/find-doctor/doctor/anas-alsaleh-md-1538391065', 'https://www.adventhealth.com/hospital/adventhealth-wesley-chapel/find-doctor/doctor/paul-armstrong-do-1639143506', 'https://www.adventhealth.com/hospital/adventhealth-wesley-chapel/find-doctor/doctor/syed-aslam-md-1508826033', 'https://www.adventhealth.com/hospital/adventhealth-wesley-chapel/find-doctor/doctor/diego-ayo-md-1518197805', 'https://www.adventhealth.com/hospital/adventhealth-wesley-chapel/find-doctor/doctor/heidi-biringer-pa-1003832205', 'https://www.adventhealth.com/hospital/adventhealth-wesley-chapel/find-doctor/doctor/marc-bloom-md-1053337394', 'https://www.adventhealth.com/hospital/adventhealth-wesley-chapel/find-doctor/doctor/kelly-bolin-aprn-1417353665', 'https://www.adventhealth.com/hospital/adventhealth-wesley-chapel/find-doctor/doctor/jennifer-botkins-aprn-1780171157', 'https://www.adventhealth.com/hospital/adventhealth-wesley-chapel/find-doctor/doctor/martin-britos-bray-md-1598781924', 'https://www.adventhealth.com/hospital/adventhealth-wesley-chapel/find-doctor/doctor/olufunke-abiose-md-1538360680', 'https://www.adventhealth.com/hospital/adventhealth-wesley-chapel/find-doctor/doctor/saeed-ahmed-md-1235228776', 'https://www.adventhealth.com/hospital/adventhealth-wesley-chapel/find-doctor/doctor/tashrique-alam-do-1821473299', 'https://www.adventhealth.com/hospital/adventhealth-wesley-chapel/find-doctor/doctor/anas-alsaleh-md-1538391065', 'https://www.adventhealth.com/hospital/adventhealth-wesley-chapel/find-doctor/doctor/paul-armstrong-do-1639143506', 'https://www.adventhealth.com/hospital/adventhealth-wesley-chapel/find-doctor/doctor/syed-aslam-md-1508826033', 'https://www.adventhealth.com/hospital/adventhealth-wesley-chapel/find-doctor/doctor/diego-ayo-md-1518197805', 'https://www.adventhealth.com/hospital/adventhealth-wesley-chapel/find-doctor/doctor/heidi-biringer-pa-1003832205', 'https://www.adventhealth.com/hospital/adventhealth-wesley-chapel/find-doctor/doctor/marc-bloom-md-1053337394', 'https://www.adventhealth.com/hospital/adventhealth-wesley-chapel/find-doctor/doctor/kelly-bolin-aprn-1417353665', 'https://www.adventhealth.com/hospital/adventhealth-wesley-chapel/find-doctor/doctor/jennifer-botkins-aprn-1780171157', 'https://www.adventhealth.com/hospital/adventhealth-wesley-chapel/find-doctor/doctor/martin-britos-bray-md-1598781924', 'https://www.adventhealth.com/hospital/adventhealth-wesley-chapel/find-doctor/doctor/olufunke-abiose-md-1538360680', 'https://www.adventhealth.com/hospital/adventhealth-wesley-chapel/find-doctor/doctor/saeed-ahmed-md-1235228776', 'https://www.adventhealth.com/hospital/adventhealth-wesley-chapel/find-doctor/doctor/tashrique-alam-do-1821473299', 'https://www.adventhealth.com/hospital/adventhealth-wesley-chapel/find-doctor/doctor/anas-alsaleh-md-1538391065', 'https://www.adventhealth.com/hospital/adventhealth-wesley-chapel/find-doctor/doctor/paul-armstrong-do-1639143506', 'https://www.adventhealth.com/hospital/adventhealth-wesley-chapel/find-doctor/doctor/syed-aslam-md-1508826033', 'https://www.adventhealth.com/hospital/adventhealth-wesley-chapel/find-doctor/doctor/diego-ayo-md-1518197805', 'https://www.adventhealth.com/hospital/adventhealth-wesley-chapel/find-doctor/doctor/heidi-biringer-pa-1003832205', 'https://www.adventhealth.com/hospital/adventhealth-wesley-chapel/find-doctor/doctor/marc-bloom-md-1053337394', 'https://www.adventhealth.com/hospital/adventhealth-wesley-chapel/find-doctor/doctor/kelly-bolin-aprn-1417353665', 'https://www.adventhealth.com/hospital/adventhealth-wesley-chapel/find-doctor/doctor/jennifer-botkins-aprn-1780171157', 'https://www.adventhealth.com/hospital/adventhealth-wesley-chapel/find-doctor/doctor/martin-britos-bray-md-1598781924', 'https://www.adventhealth.com/hospital/adventhealth-wesley-chapel/find-doctor/doctor/olufunke-abiose-md-1538360680', 'https://www.adventhealth.com/hospital/adventhealth-wesley-chapel/find-doctor/doctor/saeed-ahmed-md-1235228776', 'https://www.adventhealth.com/hospital/adventhealth-wesley-chapel/find-doctor/doctor/tashrique-alam-do-1821473299', 'https://www.adventhealth.com/hospital/adventhealth-wesley-chapel/find-doctor/doctor/anas-alsaleh-md-1538391065', 'https://www.adventhealth.com/hospital/adventhealth-wesley-chapel/find-doctor/doctor/paul-armstrong-do-1639143506', 'https://www.adventhealth.com/hospital/adventhealth-wesley-chapel/find-doctor/doctor/syed-aslam-md-1508826033', 'https://www.adventhealth.com/hospital/adventhealth-wesley-chapel/find-doctor/doctor/diego-ayo-md-1518197805', 'https://www.adventhealth.com/hospital/adventhealth-wesley-chapel/find-doctor/doctor/heidi-biringer-pa-1003832205', 'https://www.adventhealth.com/hospital/adventhealth-wesley-chapel/find-doctor/doctor/marc-bloom-md-1053337394', 'https://www.adventhealth.com/hospital/adventhealth-wesley-chapel/find-doctor/doctor/kelly-bolin-aprn-1417353665', 'https://www.adventhealth.com/hospital/adventhealth-wesley-chapel/find-doctor/doctor/jennifer-botkins-aprn-1780171157', 'https://www.adventhealth.com/hospital/adventhealth-wesley-chapel/find-doctor/doctor/martin-britos-bray-md-1598781924', 'https://www.adventhealth.com/hospital/adventhealth-wesley-chapel/find-doctor/doctor/olufunke-abiose-md-1538360680', 'https://www.adventhealth.com/hospital/adventhealth-wesley-chapel/find-doctor/doctor/saeed-ahmed-md-1235228776', 'https://www.adventhealth.com/hospital/adventhealth-wesley-chapel/find-doctor/doctor/tashrique-alam-do-1821473299', 'https://www.adventhealth.com/hospital/adventhealth-wesley-chapel/find-doctor/doctor/anas-alsaleh-md-1538391065', 'https://www.adventhealth.com/hospital/adventhealth-wesley-chapel/find-doctor/doctor/paul-armstrong-do-1639143506', 'https://www.adventhealth.com/hospital/adventhealth-wesley-chapel/find-doctor/doctor/syed-aslam-md-1508826033', 'https://www.adventhealth.com/hospital/adventhealth-wesley-chapel/find-doctor/doctor/diego-ayo-md-1518197805', 'https://www.adventhealth.com/hospital/adventhealth-wesley-chapel/find-doctor/doctor/heidi-biringer-pa-1003832205', 'https://www.adventhealth.com/hospital/adventhealth-wesley-chapel/find-doctor/doctor/marc-bloom-md-1053337394', 'https://www.adventhealth.com/hospital/adventhealth-wesley-chapel/find-doctor/doctor/kelly-bolin-aprn-1417353665', 'https://www.adventhealth.com/hospital/adventhealth-wesley-chapel/find-doctor/doctor/jennifer-botkins-aprn-1780171157', 'https://www.adventhealth.com/hospital/adventhealth-wesley-chapel/find-doctor/doctor/martin-britos-bray-md-1598781924', 'https://www.adventhealth.com/hospital/adventhealth-wesley-chapel/find-doctor/doctor/olufunke-abiose-md-1538360680', 'https://www.adventhealth.com/hospital/adventhealth-wesley-chapel/find-doctor/doctor/saeed-ahmed-md-1235228776', 'https://www.adventhealth.com/hospital/adventhealth-wesley-chapel/find-doctor/doctor/tashrique-alam-do-1821473299', 'https://www.adventhealth.com/hospital/adventhealth-wesley-chapel/find-doctor/doctor/anas-alsaleh-md-1538391065', 'https://www.adventhealth.com/hospital/adventhealth-wesley-chapel/find-doctor/doctor/paul-armstrong-do-1639143506', 'https://www.adventhealth.com/hospital/adventhealth-wesley-chapel/find-doctor/doctor/syed-aslam-md-1508826033', 'https://www.adventhealth.com/hospital/adventhealth-wesley-chapel/find-doctor/doctor/diego-ayo-md-1518197805', 'https://www.adventhealth.com/hospital/adventhealth-wesley-chapel/find-doctor/doctor/heidi-biringer-pa-1003832205', 'https://www.adventhealth.com/hospital/adventhealth-wesley-chapel/find-doctor/doctor/marc-bloom-md-1053337394', 'https://www.adventhealth.com/hospital/adventhealth-wesley-chapel/find-doctor/doctor/kelly-bolin-aprn-1417353665', 'https://www.adventhealth.com/hospital/adventhealth-wesley-chapel/find-doctor/doctor/jennifer-botkins-aprn-1780171157', 'https://www.adventhealth.com/hospital/adventhealth-wesley-chapel/find-doctor/doctor/martin-britos-bray-md-1598781924', 'https://www.adventhealth.com/hospital/adventhealth-wesley-chapel/find-doctor/doctor/olufunke-abiose-md-1538360680', 'https://www.adventhealth.com/hospital/adventhealth-wesley-chapel/find-doctor/doctor/saeed-ahmed-md-1235228776', 'https://www.adventhealth.com/hospital/adventhealth-wesley-chapel/find-doctor/doctor/tashrique-alam-do-1821473299', 'https://www.adventhealth.com/hospital/adventhealth-wesley-chapel/find-doctor/doctor/anas-alsaleh-md-1538391065', 'https://www.adventhealth.com/hospital/adventhealth-wesley-chapel/find-doctor/doctor/paul-armstrong-do-1639143506', 'https://www.adventhealth.com/hospital/adventhealth-wesley-chapel/find-doctor/doctor/syed-aslam-md-1508826033', 'https://www.adventhealth.com/hospital/adventhealth-wesley-chapel/find-doctor/doctor/diego-ayo-md-1518197805', 'https://www.adventhealth.com/hospital/adventhealth-wesley-chapel/find-doctor/doctor/heidi-biringer-pa-1003832205', 'https://www.adventhealth.com/hospital/adventhealth-wesley-chapel/find-doctor/doctor/marc-bloom-md-1053337394', 'https://www.adventhealth.com/hospital/adventhealth-wesley-chapel/find-doctor/doctor/kelly-bolin-aprn-1417353665', 'https://www.adventhealth.com/hospital/adventhealth-wesley-chapel/find-doctor/doctor/jennifer-botkins-aprn-1780171157', 'https://www.adventhealth.com/hospital/adventhealth-wesley-chapel/find-doctor/doctor/martin-britos-bray-md-1598781924', 'https://www.adventhealth.com/hospital/adventhealth-wesley-chapel/find-doctor/doctor/olufunke-abiose-md-1538360680', 'https://www.adventhealth.com/hospital/adventhealth-wesley-chapel/find-doctor/doctor/saeed-ahmed-md-1235228776', 'https://www.adventhealth.com/hospital/adventhealth-wesley-chapel/find-doctor/doctor/tashrique-alam-do-1821473299', 'https://www.adventhealth.com/hospital/adventhealth-wesley-chapel/find-doctor/doctor/anas-alsaleh-md-1538391065', 'https://www.adventhealth.com/hospital/adventhealth-wesley-chapel/find-doctor/doctor/paul-armstrong-do-1639143506', 'https://www.adventhealth.com/hospital/adventhealth-wesley-chapel/find-doctor/doctor/syed-aslam-md-1508826033', 'https://www.adventhealth.com/hospital/adventhealth-wesley-chapel/find-doctor/doctor/diego-ayo-md-1518197805', 'https://www.adventhealth.com/hospital/adventhealth-wesley-chapel/find-doctor/doctor/heidi-biringer-pa-1003832205', 'https://www.adventhealth.com/hospital/adventhealth-wesley-chapel/find-doctor/doctor/marc-bloom-md-1053337394', 'https://www.adventhealth.com/hospital/adventhealth-wesley-chapel/find-doctor/doctor/kelly-bolin-aprn-1417353665', 'https://www.adventhealth.com/hospital/adventhealth-wesley-chapel/find-doctor/doctor/jennifer-botkins-aprn-1780171157', 'https://www.adventhealth.com/hospital/adventhealth-wesley-chapel/find-doctor/doctor/martin-britos-bray-md-1598781924', 'https://www.adventhealth.com/hospital/adventhealth-wesley-chapel/find-doctor/doctor/olufunke-abiose-md-1538360680', 'https://www.adventhealth.com/hospital/adventhealth-wesley-chapel/find-doctor/doctor/saeed-ahmed-md-1235228776', 'https://www.adventhealth.com/hospital/adventhealth-wesley-chapel/find-doctor/doctor/tashrique-alam-do-1821473299', 'https://www.adventhealth.com/hospital/adventhealth-wesley-chapel/find-doctor/doctor/anas-alsaleh-md-1538391065', 'https://www.adventhealth.com/hospital/adventhealth-wesley-chapel/find-doctor/doctor/paul-armstrong-do-1639143506', 'https://www.adventhealth.com/hospital/adventhealth-wesley-chapel/find-doctor/doctor/syed-aslam-md-1508826033', 'https://www.adventhealth.com/hospital/adventhealth-wesley-chapel/find-doctor/doctor/diego-ayo-md-1518197805', 'https://www.adventhealth.com/hospital/adventhealth-wesley-chapel/find-doctor/doctor/heidi-biringer-pa-1003832205', 'https://www.adventhealth.com/hospital/adventhealth-wesley-chapel/find-doctor/doctor/marc-bloom-md-1053337394', 'https://www.adventhealth.com/hospital/adventhealth-wesley-chapel/find-doctor/doctor/kelly-bolin-aprn-1417353665', 'https://www.adventhealth.com/hospital/adventhealth-wesley-chapel/find-doctor/doctor/jennifer-botkins-aprn-1780171157', 'https://www.adventhealth.com/hospital/adventhealth-wesley-chapel/find-doctor/doctor/martin-britos-bray-md-1598781924', 'https://www.adventhealth.com/hospital/adventhealth-wesley-chapel/find-doctor/doctor/olufunke-abiose-md-1538360680', 'https://www.adventhealth.com/hospital/adventhealth-wesley-chapel/find-doctor/doctor/saeed-ahmed-md-1235228776', 'https://www.adventhealth.com/hospital/adventhealth-wesley-chapel/find-doctor/doctor/tashrique-alam-do-1821473299', 'https://www.adventhealth.com/hospital/adventhealth-wesley-chapel/find-doctor/doctor/anas-alsaleh-md-1538391065', 'https://www.adventhealth.com/hospital/adventhealth-wesley-chapel/find-doctor/doctor/paul-armstrong-do-1639143506', 'https://www.adventhealth.com/hospital/adventhealth-wesley-chapel/find-doctor/doctor/syed-aslam-md-1508826033', 'https://www.adventhealth.com/hospital/adventhealth-wesley-chapel/find-doctor/doctor/diego-ayo-md-1518197805', 'https://www.adventhealth.com/hospital/adventhealth-wesley-chapel/find-doctor/doctor/heidi-biringer-pa-1003832205', 'https://www.adventhealth.com/hospital/adventhealth-wesley-chapel/find-doctor/doctor/marc-bloom-md-1053337394', 'https://www.adventhealth.com/hospital/adventhealth-wesley-chapel/find-doctor/doctor/kelly-bolin-aprn-1417353665', 'https://www.adventhealth.com/hospital/adventhealth-wesley-chapel/find-doctor/doctor/jennifer-botkins-aprn-1780171157', 'https://www.adventhealth.com/hospital/adventhealth-wesley-chapel/find-doctor/doctor/martin-britos-bray-md-1598781924', 'https://www.adventhealth.com/hospital/adventhealth-wesley-chapel/find-doctor/doctor/olufunke-abiose-md-1538360680', 'https://www.adventhealth.com/hospital/adventhealth-wesley-chapel/find-doctor/doctor/saeed-ahmed-md-1235228776', 'https://www.adventhealth.com/hospital/adventhealth-wesley-chapel/find-doctor/doctor/tashrique-alam-do-1821473299', 'https://www.adventhealth.com/hospital/adventhealth-wesley-chapel/find-doctor/doctor/anas-alsaleh-md-1538391065', 'https://www.adventhealth.com/hospital/adventhealth-wesley-chapel/find-doctor/doctor/paul-armstrong-do-1639143506', 'https://www.adventhealth.com/hospital/adventhealth-wesley-chapel/find-doctor/doctor/syed-aslam-md-1508826033', 'https://www.adventhealth.com/hospital/adventhealth-wesley-chapel/find-doctor/doctor/diego-ayo-md-1518197805', 'https://www.adventhealth.com/hospital/adventhealth-wesley-chapel/find-doctor/doctor/heidi-biringer-pa-1003832205', 'https://www.adventhealth.com/hospital/adventhealth-wesley-chapel/find-doctor/doctor/marc-bloom-md-1053337394', 'https://www.adventhealth.com/hospital/adventhealth-wesley-chapel/find-doctor/doctor/kelly-bolin-aprn-1417353665', 'https://www.adventhealth.com/hospital/adventhealth-wesley-chapel/find-doctor/doctor/jennifer-botkins-aprn-1780171157', 'https://www.adventhealth.com/hospital/adventhealth-wesley-chapel/find-doctor/doctor/martin-britos-bray-md-1598781924', 'https://www.adventhealth.com/hospital/adventhealth-wesley-chapel/find-doctor/doctor/olufunke-abiose-md-1538360680', 'https://www.adventhealth.com/hospital/adventhealth-wesley-chapel/find-doctor/doctor/saeed-ahmed-md-1235228776', 'https://www.adventhealth.com/hospital/adventhealth-wesley-chapel/find-doctor/doctor/tashrique-alam-do-1821473299', 'https://www.adventhealth.com/hospital/adventhealth-wesley-chapel/find-doctor/doctor/anas-alsaleh-md-1538391065', 'https://www.adventhealth.com/hospital/adventhealth-wesley-chapel/find-doctor/doctor/paul-armstrong-do-1639143506', 'https://www.adventhealth.com/hospital/adventhealth-wesley-chapel/find-doctor/doctor/syed-aslam-md-1508826033', 'https://www.adventhealth.com/hospital/adventhealth-wesley-chapel/find-doctor/doctor/diego-ayo-md-1518197805', 'https://www.adventhealth.com/hospital/adventhealth-wesley-chapel/find-doctor/doctor/heidi-biringer-pa-1003832205', 'https://www.adventhealth.com/hospital/adventhealth-wesley-chapel/find-doctor/doctor/marc-bloom-md-1053337394', 'https://www.adventhealth.com/hospital/adventhealth-wesley-chapel/find-doctor/doctor/kelly-bolin-aprn-1417353665', 'https://www.adventhealth.com/hospital/adventhealth-wesley-chapel/find-doctor/doctor/jennifer-botkins-aprn-1780171157', 'https://www.adventhealth.com/hospital/adventhealth-wesley-chapel/find-doctor/doctor/martin-britos-bray-md-1598781924', 'https://www.adventhealth.com/hospital/adventhealth-wesley-chapel/find-doctor/doctor/olufunke-abiose-md-1538360680', 'https://www.adventhealth.com/hospital/adventhealth-wesley-chapel/find-doctor/doctor/saeed-ahmed-md-1235228776', 'https://www.adventhealth.com/hospital/adventhealth-wesley-chapel/find-doctor/doctor/tashrique-alam-do-1821473299', 'https://www.adventhealth.com/hospital/adventhealth-wesley-chapel/find-doctor/doctor/anas-alsaleh-md-1538391065', 'https://www.adventhealth.com/hospital/adventhealth-wesley-chapel/find-doctor/doctor/paul-armstrong-do-1639143506', 'https://www.adventhealth.com/hospital/adventhealth-wesley-chapel/find-doctor/doctor/syed-aslam-md-1508826033', 'https://www.adventhealth.com/hospital/adventhealth-wesley-chapel/find-doctor/doctor/diego-ayo-md-1518197805', 'https://www.adventhealth.com/hospital/adventhealth-wesley-chapel/find-doctor/doctor/heidi-biringer-pa-1003832205', 'https://www.adventhealth.com/hospital/adventhealth-wesley-chapel/find-doctor/doctor/marc-bloom-md-1053337394', 'https://www.adventhealth.com/hospital/adventhealth-wesley-chapel/find-doctor/doctor/kelly-bolin-aprn-1417353665', 'https://www.adventhealth.com/hospital/adventhealth-wesley-chapel/find-doctor/doctor/jennifer-botkins-aprn-1780171157', 'https://www.adventhealth.com/hospital/adventhealth-wesley-chapel/find-doctor/doctor/martin-britos-bray-md-1598781924', 'https://www.adventhealth.com/hospital/adventhealth-wesley-chapel/find-doctor/doctor/olufunke-abiose-md-1538360680', 'https://www.adventhealth.com/hospital/adventhealth-wesley-chapel/find-doctor/doctor/saeed-ahmed-md-1235228776', 'https://www.adventhealth.com/hospital/adventhealth-wesley-chapel/find-doctor/doctor/tashrique-alam-do-1821473299', 'https://www.adventhealth.com/hospital/adventhealth-wesley-chapel/find-doctor/doctor/anas-alsaleh-md-1538391065', 'https://www.adventhealth.com/hospital/adventhealth-wesley-chapel/find-doctor/doctor/paul-armstrong-do-1639143506', 'https://www.adventhealth.com/hospital/adventhealth-wesley-chapel/find-doctor/doctor/syed-aslam-md-1508826033', 'https://www.adventhealth.com/hospital/adventhealth-wesley-chapel/find-doctor/doctor/diego-ayo-md-1518197805', 'https://www.adventhealth.com/hospital/adventhealth-wesley-chapel/find-doctor/doctor/heidi-biringer-pa-1003832205', 'https://www.adventhealth.com/hospital/adventhealth-wesley-chapel/find-doctor/doctor/marc-bloom-md-1053337394', 'https://www.adventhealth.com/hospital/adventhealth-wesley-chapel/find-doctor/doctor/kelly-bolin-aprn-1417353665', 'https://www.adventhealth.com/hospital/adventhealth-wesley-chapel/find-doctor/doctor/jennifer-botkins-aprn-1780171157', 'https://www.adventhealth.com/hospital/adventhealth-wesley-chapel/find-doctor/doctor/martin-britos-bray-md-1598781924', 'https://www.adventhealth.com/hospital/adventhealth-wesley-chapel/find-doctor/doctor/olufunke-abiose-md-1538360680', 'https://www.adventhealth.com/hospital/adventhealth-wesley-chapel/find-doctor/doctor/saeed-ahmed-md-1235228776', 'https://www.adventhealth.com/hospital/adventhealth-wesley-chapel/find-doctor/doctor/tashrique-alam-do-1821473299', 'https://www.adventhealth.com/hospital/adventhealth-wesley-chapel/find-doctor/doctor/anas-alsaleh-md-1538391065', 'https://www.adventhealth.com/hospital/adventhealth-wesley-chapel/find-doctor/doctor/paul-armstrong-do-1639143506', 'https://www.adventhealth.com/hospital/adventhealth-wesley-chapel/find-doctor/doctor/syed-aslam-md-1508826033', 'https://www.adventhealth.com/hospital/adventhealth-wesley-chapel/find-doctor/doctor/diego-ayo-md-1518197805', 'https://www.adventhealth.com/hospital/adventhealth-wesley-chapel/find-doctor/doctor/heidi-biringer-pa-1003832205', 'https://www.adventhealth.com/hospital/adventhealth-wesley-chapel/find-doctor/doctor/marc-bloom-md-1053337394', 'https://www.adventhealth.com/hospital/adventhealth-wesley-chapel/find-doctor/doctor/kelly-bolin-aprn-1417353665', 'https://www.adventhealth.com/hospital/adventhealth-wesley-chapel/find-doctor/doctor/jennifer-botkins-aprn-1780171157', 'https://www.adventhealth.com/hospital/adventhealth-wesley-chapel/find-doctor/doctor/martin-britos-bray-md-1598781924', 'https://www.adventhealth.com/hospital/adventhealth-wesley-chapel/find-doctor/doctor/olufunke-abiose-md-1538360680', 'https://www.adventhealth.com/hospital/adventhealth-wesley-chapel/find-doctor/doctor/saeed-ahmed-md-1235228776', 'https://www.adventhealth.com/hospital/adventhealth-wesley-chapel/find-doctor/doctor/tashrique-alam-do-1821473299', 'https://www.adventhealth.com/hospital/adventhealth-wesley-chapel/find-doctor/doctor/anas-alsaleh-md-1538391065', 'https://www.adventhealth.com/hospital/adventhealth-wesley-chapel/find-doctor/doctor/paul-armstrong-do-1639143506', 'https://www.adventhealth.com/hospital/adventhealth-wesley-chapel/find-doctor/doctor/syed-aslam-md-1508826033', 'https://www.adventhealth.com/hospital/adventhealth-wesley-chapel/find-doctor/doctor/diego-ayo-md-1518197805', 'https://www.adventhealth.com/hospital/adventhealth-wesley-chapel/find-doctor/doctor/heidi-biringer-pa-1003832205', 'https://www.adventhealth.com/hospital/adventhealth-wesley-chapel/find-doctor/doctor/marc-bloom-md-1053337394', 'https://www.adventhealth.com/hospital/adventhealth-wesley-chapel/find-doctor/doctor/kelly-bolin-aprn-1417353665', 'https://www.adventhealth.com/hospital/adventhealth-wesley-chapel/find-doctor/doctor/jennifer-botkins-aprn-1780171157', 'https://www.adventhealth.com/hospital/adventhealth-wesley-chapel/find-doctor/doctor/martin-britos-bray-md-1598781924', 'https://www.adventhealth.com/hospital/adventhealth-wesley-chapel/find-doctor/doctor/olufunke-abiose-md-1538360680', 'https://www.adventhealth.com/hospital/adventhealth-wesley-chapel/find-doctor/doctor/saeed-ahmed-md-1235228776', 'https://www.adventhealth.com/hospital/adventhealth-wesley-chapel/find-doctor/doctor/tashrique-alam-do-1821473299', 'https://www.adventhealth.com/hospital/adventhealth-wesley-chapel/find-doctor/doctor/anas-alsaleh-md-1538391065', 'https://www.adventhealth.com/hospital/adventhealth-wesley-chapel/find-doctor/doctor/paul-armstrong-do-1639143506', 'https://www.adventhealth.com/hospital/adventhealth-wesley-chapel/find-doctor/doctor/syed-aslam-md-1508826033', 'https://www.adventhealth.com/hospital/adventhealth-wesley-chapel/find-doctor/doctor/diego-ayo-md-1518197805', 'https://www.adventhealth.com/hospital/adventhealth-wesley-chapel/find-doctor/doctor/heidi-biringer-pa-1003832205', 'https://www.adventhealth.com/hospital/adventhealth-wesley-chapel/find-doctor/doctor/marc-bloom-md-1053337394', 'https://www.adventhealth.com/hospital/adventhealth-wesley-chapel/find-doctor/doctor/kelly-bolin-aprn-1417353665', 'https://www.adventhealth.com/hospital/adventhealth-wesley-chapel/find-doctor/doctor/jennifer-botkins-aprn-1780171157', 'https://www.adventhealth.com/hospital/adventhealth-wesley-chapel/find-doctor/doctor/martin-britos-bray-md-1598781924']\n"
     ]
    }
   ],
   "source": [
    "import requests\n",
    "from bs4 import BeautifulSoup\n",
    "\n",
    "domain  = \"https://www.adventhealth.com\"\n",
    "doctor_urls = []\n",
    "\n",
    "for i in range(1, 27):\n",
    "    search = \"https://www.adventhealth.com/hospital/adventhealth-wesley-chapel/find-doctors\"\n",
    "\n",
    "    response = requests.get(search)\n",
    "    soup = BeautifulSoup(response.content, \"html.parser\")\n",
    "    #print(soup.prettify())\n",
    "\n",
    "    doctors = soup.find_all('div', {'class': 'physician-block__cta'})\n",
    "    #print(len(doctors))\n",
    "    \n",
    "\n",
    "    for doctor in doctors:\n",
    "        for link in doctor.find_all('a', href=True):\n",
    "            doctor_urls.append(domain + link['href'])\n",
    "    #print(f\"Page {i} done\")\n",
    "print(len(doctor_urls))\n",
    "print(doctor_urls)"
   ]
  },
  {
   "cell_type": "code",
   "execution_count": 51,
   "id": "37077146",
   "metadata": {},
   "outputs": [
    {
     "name": "stdout",
     "output_type": "stream",
     "text": [
      "2600 Bruce B. Downs Boulevard\n",
      "2600 Bruce B. Downs Boulevard,\n",
      "2600 Bruce B. Downs Boulevard,\n",
      "18923 Sr 54\n",
      "18923 Sr 54\n",
      "2700 Healing Way \n",
      "              Suite 100\n",
      "2700 Healing Way \n",
      "              Suite 100\n",
      "18923 Sr 54\n",
      "2700 Healing Way \n",
      "              Suite 100\n",
      "18923 Sr 54\n",
      "2700 Healing Way \n",
      "              Suite 100\n",
      "2600 Bruce B. Downs Boulevard\n"
     ]
    }
   ],
   "source": [
    "testlink = doctor_urls[0]\n",
    "\n",
    "r = requests.get(testlink)\n",
    "soup = BeautifulSoup(r.content, 'html.parser')\n",
    "\n",
    "name = soup.find('h1', {'class': 'physician-details-block__name'}).text.strip()\n",
    "specialty = soup.find_all('p', {'class': 'physician-details-block__specialty'})\n",
    "address = {}\n",
    "practice_name = soup.find_all('h3', {'class': 'physician-locations-block__practice-name'})\n",
    "addLine1 = soup.find_all('span', {'property': 'streetAddress'})\n",
    "for i in addLine1:\n",
    "    print(i.text.strip())"
   ]
  },
  {
   "cell_type": "code",
   "execution_count": 53,
   "id": "b88c808d",
   "metadata": {},
   "outputs": [
    {
     "ename": "SelectorSyntaxError",
     "evalue": "Invalid character '/' position 0\n  line 1:\n//div[contains(@class, \"physician-locations-block__practice-name\")]/following-sibling::div[1]//span[contains(@property, \"streetAddress\")]\n^",
     "output_type": "error",
     "traceback": [
      "\u001b[1;31m---------------------------------------------------------------------------\u001b[0m",
      "\u001b[1;31mSelectorSyntaxError\u001b[0m                       Traceback (most recent call last)",
      "Cell \u001b[1;32mIn[53], line 10\u001b[0m\n\u001b[0;32m      8\u001b[0m address \u001b[38;5;241m=\u001b[39m {} \n\u001b[0;32m      9\u001b[0m practice_name \u001b[38;5;241m=\u001b[39m soup\u001b[38;5;241m.\u001b[39mfind_all(\u001b[38;5;124m'\u001b[39m\u001b[38;5;124mh3\u001b[39m\u001b[38;5;124m'\u001b[39m, {\u001b[38;5;124m'\u001b[39m\u001b[38;5;124mclass\u001b[39m\u001b[38;5;124m'\u001b[39m: \u001b[38;5;124m'\u001b[39m\u001b[38;5;124mphysician-locations-block__practice-name\u001b[39m\u001b[38;5;124m'\u001b[39m}) \n\u001b[1;32m---> 10\u001b[0m addLine1 \u001b[38;5;241m=\u001b[39m \u001b[43msoup\u001b[49m\u001b[38;5;241;43m.\u001b[39;49m\u001b[43mselect\u001b[49m\u001b[43m(\u001b[49m\u001b[38;5;124;43m'\u001b[39;49m\u001b[38;5;124;43m//div[contains(@class, \u001b[39;49m\u001b[38;5;124;43m\"\u001b[39;49m\u001b[38;5;124;43mphysician-locations-block__practice-name\u001b[39;49m\u001b[38;5;124;43m\"\u001b[39;49m\u001b[38;5;124;43m)]/following-sibling::div[1]//span[contains(@property, \u001b[39;49m\u001b[38;5;124;43m\"\u001b[39;49m\u001b[38;5;124;43mstreetAddress\u001b[39;49m\u001b[38;5;124;43m\"\u001b[39;49m\u001b[38;5;124;43m)]\u001b[39;49m\u001b[38;5;124;43m'\u001b[39;49m\u001b[43m)\u001b[49m \n\u001b[0;32m     11\u001b[0m \u001b[38;5;28;01mfor\u001b[39;00m i \u001b[38;5;129;01min\u001b[39;00m addLine1: \n\u001b[0;32m     12\u001b[0m     \u001b[38;5;28mprint\u001b[39m(i\u001b[38;5;241m.\u001b[39mtext\u001b[38;5;241m.\u001b[39mstrip())\n",
      "File \u001b[1;32mc:\\Users\\nyaya\\AppData\\Local\\Programs\\Python\\Python310\\lib\\site-packages\\bs4\\element.py:2111\u001b[0m, in \u001b[0;36mTag.select\u001b[1;34m(self, selector, namespaces, limit, **kwargs)\u001b[0m\n\u001b[0;32m   2091\u001b[0m \u001b[38;5;28;01mdef\u001b[39;00m \u001b[38;5;21mselect\u001b[39m(\u001b[38;5;28mself\u001b[39m, selector, namespaces\u001b[38;5;241m=\u001b[39m\u001b[38;5;28;01mNone\u001b[39;00m, limit\u001b[38;5;241m=\u001b[39m\u001b[38;5;28;01mNone\u001b[39;00m, \u001b[38;5;241m*\u001b[39m\u001b[38;5;241m*\u001b[39mkwargs):\n\u001b[0;32m   2092\u001b[0m \u001b[38;5;250m    \u001b[39m\u001b[38;5;124;03m\"\"\"Perform a CSS selection operation on the current element.\u001b[39;00m\n\u001b[0;32m   2093\u001b[0m \n\u001b[0;32m   2094\u001b[0m \u001b[38;5;124;03m    This uses the SoupSieve library.\u001b[39;00m\n\u001b[1;32m   (...)\u001b[0m\n\u001b[0;32m   2109\u001b[0m \u001b[38;5;124;03m    :rtype: bs4.element.ResultSet\u001b[39;00m\n\u001b[0;32m   2110\u001b[0m \u001b[38;5;124;03m    \"\"\"\u001b[39;00m\n\u001b[1;32m-> 2111\u001b[0m     \u001b[38;5;28;01mreturn\u001b[39;00m \u001b[38;5;28mself\u001b[39m\u001b[38;5;241m.\u001b[39mcss\u001b[38;5;241m.\u001b[39mselect(selector, namespaces, limit, \u001b[38;5;241m*\u001b[39m\u001b[38;5;241m*\u001b[39mkwargs)\n",
      "File \u001b[1;32mc:\\Users\\nyaya\\AppData\\Local\\Programs\\Python\\Python310\\lib\\site-packages\\bs4\\css.py:162\u001b[0m, in \u001b[0;36mCSS.select\u001b[1;34m(self, select, namespaces, limit, flags, **kwargs)\u001b[0m\n\u001b[0;32m    158\u001b[0m \u001b[38;5;28;01mif\u001b[39;00m limit \u001b[38;5;129;01mis\u001b[39;00m \u001b[38;5;28;01mNone\u001b[39;00m:\n\u001b[0;32m    159\u001b[0m     limit \u001b[38;5;241m=\u001b[39m \u001b[38;5;241m0\u001b[39m\n\u001b[0;32m    161\u001b[0m \u001b[38;5;28;01mreturn\u001b[39;00m \u001b[38;5;28mself\u001b[39m\u001b[38;5;241m.\u001b[39m_rs(\n\u001b[1;32m--> 162\u001b[0m     \u001b[38;5;28mself\u001b[39m\u001b[38;5;241m.\u001b[39mapi\u001b[38;5;241m.\u001b[39mselect(\n\u001b[0;32m    163\u001b[0m         select, \u001b[38;5;28mself\u001b[39m\u001b[38;5;241m.\u001b[39mtag, \u001b[38;5;28mself\u001b[39m\u001b[38;5;241m.\u001b[39m_ns(namespaces, select), limit, flags,\n\u001b[0;32m    164\u001b[0m         \u001b[38;5;241m*\u001b[39m\u001b[38;5;241m*\u001b[39mkwargs\n\u001b[0;32m    165\u001b[0m     )\n\u001b[0;32m    166\u001b[0m )\n",
      "File \u001b[1;32mc:\\Users\\nyaya\\AppData\\Local\\Programs\\Python\\Python310\\lib\\site-packages\\soupsieve\\__init__.py:147\u001b[0m, in \u001b[0;36mselect\u001b[1;34m(select, tag, namespaces, limit, flags, custom, **kwargs)\u001b[0m\n\u001b[0;32m    135\u001b[0m \u001b[38;5;28;01mdef\u001b[39;00m \u001b[38;5;21mselect\u001b[39m(\n\u001b[0;32m    136\u001b[0m     select: \u001b[38;5;28mstr\u001b[39m,\n\u001b[0;32m    137\u001b[0m     tag: bs4\u001b[38;5;241m.\u001b[39mTag,\n\u001b[1;32m   (...)\u001b[0m\n\u001b[0;32m    143\u001b[0m     \u001b[38;5;241m*\u001b[39m\u001b[38;5;241m*\u001b[39mkwargs: Any\n\u001b[0;32m    144\u001b[0m ) \u001b[38;5;241m-\u001b[39m\u001b[38;5;241m>\u001b[39m \u001b[38;5;28mlist\u001b[39m[bs4\u001b[38;5;241m.\u001b[39mTag]:\n\u001b[0;32m    145\u001b[0m \u001b[38;5;250m    \u001b[39m\u001b[38;5;124;03m\"\"\"Select the specified tags.\"\"\"\u001b[39;00m\n\u001b[1;32m--> 147\u001b[0m     \u001b[38;5;28;01mreturn\u001b[39;00m \u001b[38;5;28mcompile\u001b[39m(select, namespaces, flags, \u001b[38;5;241m*\u001b[39m\u001b[38;5;241m*\u001b[39mkwargs)\u001b[38;5;241m.\u001b[39mselect(tag, limit)\n",
      "File \u001b[1;32mc:\\Users\\nyaya\\AppData\\Local\\Programs\\Python\\Python310\\lib\\site-packages\\soupsieve\\__init__.py:65\u001b[0m, in \u001b[0;36mcompile\u001b[1;34m(pattern, namespaces, flags, custom, **kwargs)\u001b[0m\n\u001b[0;32m     62\u001b[0m         \u001b[38;5;28;01mraise\u001b[39;00m \u001b[38;5;167;01mValueError\u001b[39;00m(\u001b[38;5;124m\"\u001b[39m\u001b[38;5;124mCannot process \u001b[39m\u001b[38;5;124m'\u001b[39m\u001b[38;5;124mcustom\u001b[39m\u001b[38;5;124m'\u001b[39m\u001b[38;5;124m argument on a compiled selector list\u001b[39m\u001b[38;5;124m\"\u001b[39m)\n\u001b[0;32m     63\u001b[0m     \u001b[38;5;28;01mreturn\u001b[39;00m pattern\n\u001b[1;32m---> 65\u001b[0m \u001b[38;5;28;01mreturn\u001b[39;00m \u001b[43mcp\u001b[49m\u001b[38;5;241;43m.\u001b[39;49m\u001b[43m_cached_css_compile\u001b[49m\u001b[43m(\u001b[49m\n\u001b[0;32m     66\u001b[0m \u001b[43m    \u001b[49m\u001b[43mpattern\u001b[49m\u001b[43m,\u001b[49m\n\u001b[0;32m     67\u001b[0m \u001b[43m    \u001b[49m\u001b[43mct\u001b[49m\u001b[38;5;241;43m.\u001b[39;49m\u001b[43mNamespaces\u001b[49m\u001b[43m(\u001b[49m\u001b[43mnamespaces\u001b[49m\u001b[43m)\u001b[49m\u001b[43m \u001b[49m\u001b[38;5;28;43;01mif\u001b[39;49;00m\u001b[43m \u001b[49m\u001b[43mnamespaces\u001b[49m\u001b[43m \u001b[49m\u001b[38;5;129;43;01mis\u001b[39;49;00m\u001b[43m \u001b[49m\u001b[38;5;129;43;01mnot\u001b[39;49;00m\u001b[43m \u001b[49m\u001b[38;5;28;43;01mNone\u001b[39;49;00m\u001b[43m \u001b[49m\u001b[38;5;28;43;01melse\u001b[39;49;00m\u001b[43m \u001b[49m\u001b[43mnamespaces\u001b[49m\u001b[43m,\u001b[49m\n\u001b[0;32m     68\u001b[0m \u001b[43m    \u001b[49m\u001b[43mct\u001b[49m\u001b[38;5;241;43m.\u001b[39;49m\u001b[43mCustomSelectors\u001b[49m\u001b[43m(\u001b[49m\u001b[43mcustom\u001b[49m\u001b[43m)\u001b[49m\u001b[43m \u001b[49m\u001b[38;5;28;43;01mif\u001b[39;49;00m\u001b[43m \u001b[49m\u001b[43mcustom\u001b[49m\u001b[43m \u001b[49m\u001b[38;5;129;43;01mis\u001b[39;49;00m\u001b[43m \u001b[49m\u001b[38;5;129;43;01mnot\u001b[39;49;00m\u001b[43m \u001b[49m\u001b[38;5;28;43;01mNone\u001b[39;49;00m\u001b[43m \u001b[49m\u001b[38;5;28;43;01melse\u001b[39;49;00m\u001b[43m \u001b[49m\u001b[43mcustom\u001b[49m\u001b[43m,\u001b[49m\n\u001b[0;32m     69\u001b[0m \u001b[43m    \u001b[49m\u001b[43mflags\u001b[49m\n\u001b[0;32m     70\u001b[0m \u001b[43m\u001b[49m\u001b[43m)\u001b[49m\n",
      "File \u001b[1;32mc:\\Users\\nyaya\\AppData\\Local\\Programs\\Python\\Python310\\lib\\site-packages\\soupsieve\\css_parser.py:208\u001b[0m, in \u001b[0;36m_cached_css_compile\u001b[1;34m(pattern, namespaces, custom, flags)\u001b[0m\n\u001b[0;32m    199\u001b[0m \u001b[38;5;250m\u001b[39m\u001b[38;5;124;03m\"\"\"Cached CSS compile.\"\"\"\u001b[39;00m\n\u001b[0;32m    201\u001b[0m custom_selectors \u001b[38;5;241m=\u001b[39m process_custom(custom)\n\u001b[0;32m    202\u001b[0m \u001b[38;5;28;01mreturn\u001b[39;00m cm\u001b[38;5;241m.\u001b[39mSoupSieve(\n\u001b[0;32m    203\u001b[0m     pattern,\n\u001b[0;32m    204\u001b[0m     \u001b[43mCSSParser\u001b[49m\u001b[43m(\u001b[49m\n\u001b[0;32m    205\u001b[0m \u001b[43m        \u001b[49m\u001b[43mpattern\u001b[49m\u001b[43m,\u001b[49m\n\u001b[0;32m    206\u001b[0m \u001b[43m        \u001b[49m\u001b[43mcustom\u001b[49m\u001b[38;5;241;43m=\u001b[39;49m\u001b[43mcustom_selectors\u001b[49m\u001b[43m,\u001b[49m\n\u001b[0;32m    207\u001b[0m \u001b[43m        \u001b[49m\u001b[43mflags\u001b[49m\u001b[38;5;241;43m=\u001b[39;49m\u001b[43mflags\u001b[49m\n\u001b[1;32m--> 208\u001b[0m \u001b[43m    \u001b[49m\u001b[43m)\u001b[49m\u001b[38;5;241;43m.\u001b[39;49m\u001b[43mprocess_selectors\u001b[49m\u001b[43m(\u001b[49m\u001b[43m)\u001b[49m,\n\u001b[0;32m    209\u001b[0m     namespaces,\n\u001b[0;32m    210\u001b[0m     custom,\n\u001b[0;32m    211\u001b[0m     flags\n\u001b[0;32m    212\u001b[0m )\n",
      "File \u001b[1;32mc:\\Users\\nyaya\\AppData\\Local\\Programs\\Python\\Python310\\lib\\site-packages\\soupsieve\\css_parser.py:1129\u001b[0m, in \u001b[0;36mCSSParser.process_selectors\u001b[1;34m(self, index, flags)\u001b[0m\n\u001b[0;32m   1126\u001b[0m \u001b[38;5;28;01mdef\u001b[39;00m \u001b[38;5;21mprocess_selectors\u001b[39m(\u001b[38;5;28mself\u001b[39m, index: \u001b[38;5;28mint\u001b[39m \u001b[38;5;241m=\u001b[39m \u001b[38;5;241m0\u001b[39m, flags: \u001b[38;5;28mint\u001b[39m \u001b[38;5;241m=\u001b[39m \u001b[38;5;241m0\u001b[39m) \u001b[38;5;241m-\u001b[39m\u001b[38;5;241m>\u001b[39m ct\u001b[38;5;241m.\u001b[39mSelectorList:\n\u001b[0;32m   1127\u001b[0m \u001b[38;5;250m    \u001b[39m\u001b[38;5;124;03m\"\"\"Process selectors.\"\"\"\u001b[39;00m\n\u001b[1;32m-> 1129\u001b[0m     \u001b[38;5;28;01mreturn\u001b[39;00m \u001b[38;5;28;43mself\u001b[39;49m\u001b[38;5;241;43m.\u001b[39;49m\u001b[43mparse_selectors\u001b[49m\u001b[43m(\u001b[49m\u001b[38;5;28;43mself\u001b[39;49m\u001b[38;5;241;43m.\u001b[39;49m\u001b[43mselector_iter\u001b[49m\u001b[43m(\u001b[49m\u001b[38;5;28;43mself\u001b[39;49m\u001b[38;5;241;43m.\u001b[39;49m\u001b[43mpattern\u001b[49m\u001b[43m)\u001b[49m\u001b[43m,\u001b[49m\u001b[43m \u001b[49m\u001b[43mindex\u001b[49m\u001b[43m,\u001b[49m\u001b[43m \u001b[49m\u001b[43mflags\u001b[49m\u001b[43m)\u001b[49m\n",
      "File \u001b[1;32mc:\\Users\\nyaya\\AppData\\Local\\Programs\\Python\\Python310\\lib\\site-packages\\soupsieve\\css_parser.py:965\u001b[0m, in \u001b[0;36mCSSParser.parse_selectors\u001b[1;34m(self, iselector, index, flags)\u001b[0m\n\u001b[0;32m    963\u001b[0m \u001b[38;5;28;01mtry\u001b[39;00m:\n\u001b[0;32m    964\u001b[0m     \u001b[38;5;28;01mwhile\u001b[39;00m \u001b[38;5;28;01mTrue\u001b[39;00m:\n\u001b[1;32m--> 965\u001b[0m         key, m \u001b[38;5;241m=\u001b[39m \u001b[38;5;28;43mnext\u001b[39;49m\u001b[43m(\u001b[49m\u001b[43miselector\u001b[49m\u001b[43m)\u001b[49m\n\u001b[0;32m    967\u001b[0m         \u001b[38;5;66;03m# Handle parts\u001b[39;00m\n\u001b[0;32m    968\u001b[0m         \u001b[38;5;28;01mif\u001b[39;00m key \u001b[38;5;241m==\u001b[39m \u001b[38;5;124m\"\u001b[39m\u001b[38;5;124mat_rule\u001b[39m\u001b[38;5;124m\"\u001b[39m:\n",
      "File \u001b[1;32mc:\\Users\\nyaya\\AppData\\Local\\Programs\\Python\\Python310\\lib\\site-packages\\soupsieve\\css_parser.py:1122\u001b[0m, in \u001b[0;36mCSSParser.selector_iter\u001b[1;34m(self, pattern)\u001b[0m\n\u001b[0;32m   1120\u001b[0m         \u001b[38;5;28;01melse\u001b[39;00m:\n\u001b[0;32m   1121\u001b[0m             msg \u001b[38;5;241m=\u001b[39m \u001b[38;5;124mf\u001b[39m\u001b[38;5;124m\"\u001b[39m\u001b[38;5;124mInvalid character \u001b[39m\u001b[38;5;132;01m{\u001b[39;00mc\u001b[38;5;132;01m!r}\u001b[39;00m\u001b[38;5;124m position \u001b[39m\u001b[38;5;132;01m{\u001b[39;00mindex\u001b[38;5;132;01m}\u001b[39;00m\u001b[38;5;124m\"\u001b[39m\n\u001b[1;32m-> 1122\u001b[0m         \u001b[38;5;28;01mraise\u001b[39;00m SelectorSyntaxError(msg, \u001b[38;5;28mself\u001b[39m\u001b[38;5;241m.\u001b[39mpattern, index)\n\u001b[0;32m   1123\u001b[0m \u001b[38;5;28;01mif\u001b[39;00m \u001b[38;5;28mself\u001b[39m\u001b[38;5;241m.\u001b[39mdebug:  \u001b[38;5;66;03m# pragma: no cover\u001b[39;00m\n\u001b[0;32m   1124\u001b[0m     \u001b[38;5;28mprint\u001b[39m(\u001b[38;5;124m'\u001b[39m\u001b[38;5;124m## END PARSING\u001b[39m\u001b[38;5;124m'\u001b[39m)\n",
      "\u001b[1;31mSelectorSyntaxError\u001b[0m: Invalid character '/' position 0\n  line 1:\n//div[contains(@class, \"physician-locations-block__practice-name\")]/following-sibling::div[1]//span[contains(@property, \"streetAddress\")]\n^"
     ]
    }
   ],
   "source": [
    "testlink = doctor_urls[0]\n",
    "\n",
    "r = requests.get(testlink) \n",
    "soup = BeautifulSoup(r.content, 'html.parser')\n",
    "\n",
    "name = soup.find('h1', {'class': 'physician-details-block__name'}).text.strip() \n",
    "specialty = soup.find_all('p', {'class': 'physician-details-block__specialty'}) \n",
    "address = {} \n",
    "practice_name = soup.find_all('h3', {'class': 'physician-locations-block__practice-name'}) \n",
    "addLine1 = soup.select('//div[contains(@class, \"physician-locations-block__practice-name\")]/following-sibling::div[1]//span[contains(@property, \"streetAddress\")]') \n",
    "for i in addLine1: \n",
    "    print(i.text.strip())"
   ]
  },
  {
   "cell_type": "code",
   "execution_count": null,
   "id": "806a4546",
   "metadata": {},
   "outputs": [],
   "source": []
  }
 ],
 "metadata": {
  "kernelspec": {
   "display_name": "Python 3",
   "language": "python",
   "name": "python3"
  },
  "language_info": {
   "codemirror_mode": {
    "name": "ipython",
    "version": 3
   },
   "file_extension": ".py",
   "mimetype": "text/x-python",
   "name": "python",
   "nbconvert_exporter": "python",
   "pygments_lexer": "ipython3",
   "version": "3.10.11"
  }
 },
 "nbformat": 4,
 "nbformat_minor": 5
}
