{
 "cells": [
  {
   "cell_type": "code",
   "execution_count": null,
   "metadata": {},
   "outputs": [],
   "source": [
    "#armstrong check\n",
    "i = input('Give any number to check if it is an Armstrong: ')\n",
    "n = len(i)\n",
    "sum = 0\n",
    "\n",
    "for digit in i:\n",
    "    sum += int(digit) ** n\n",
    "\n",
    "if sum == int(i):\n",
    "    print(f\"{i} is an Armstrong number.\")\n",
    "else:\n",
    "    print(f\"{i} is not an Armstrong number.\")\n",
    "    \n"
   ]
  },
  {
   "cell_type": "code",
   "execution_count": 2,
   "id": "057c9fa6",
   "metadata": {},
   "outputs": [
    {
     "name": "stdout",
     "output_type": "stream",
     "text": [
      "<Response [200]>\n"
     ]
    },
    {
     "data": {
      "text/plain": [
       "'\\n# Check if the request was successful\\nif response.status_code == 200:\\n    # Parse the HTML content using BeautifulSoup\\n    soup = BeautifulSoup(response.content, \"html.parser\")\\n\\n    # Extract the desired data from the parsed HTML\\n    # Example: Extract all the links on the page\\n    links = soup.find_all(\"a\")\\n    \\n    # Print the extracted data\\n    for link in links:\\n        print(link.get(\"href\"))\\nelse:\\n    print(\"Failed to retrieve data from the URL.\")\\n'"
      ]
     },
     "execution_count": 2,
     "metadata": {},
     "output_type": "execute_result"
    }
   ],
   "source": [
    "import requests\n",
    "from bs4 import BeautifulSoup\n",
    "\n",
    "# Define the URL\n",
    "url = \"https://www.jacksonparkhospital.org/directory/find-a-physician/\"\n",
    "\n",
    "# Send a GET request to the URL\n",
    "response = requests.get(url)\n",
    "print(response)\n",
    "\"\"\"\n",
    "# Check if the request was successful\n",
    "if response.status_code == 200:\n",
    "    # Parse the HTML content using BeautifulSoup\n",
    "    soup = BeautifulSoup(response.content, \"html.parser\")\n",
    "\n",
    "    # Extract the desired data from the parsed HTML\n",
    "    # Example: Extract all the links on the page\n",
    "    links = soup.find_all(\"a\")\n",
    "    \n",
    "    # Print the extracted data\n",
    "    for link in links:\n",
    "        print(link.get(\"href\"))\n",
    "else:\n",
    "    print(\"Failed to retrieve data from the URL.\")\n",
    "\"\"\""
   ]
  },
  {
   "cell_type": "code",
   "execution_count": null,
   "id": "9afefb98",
   "metadata": {},
   "outputs": [],
   "source": []
  }
 ],
 "metadata": {
  "kernelspec": {
   "display_name": "Python 3",
   "language": "python",
   "name": "python3"
  },
  "language_info": {
   "codemirror_mode": {
    "name": "ipython",
    "version": 3
   },
   "file_extension": ".py",
   "mimetype": "text/x-python",
   "name": "python",
   "nbconvert_exporter": "python",
   "pygments_lexer": "ipython3",
   "version": "3.10.11"
  }
 },
 "nbformat": 4,
 "nbformat_minor": 5
}
