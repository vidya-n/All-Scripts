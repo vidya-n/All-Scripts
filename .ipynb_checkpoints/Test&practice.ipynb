{
 "cells": [
  {
   "cell_type": "markdown",
   "metadata": {},
   "source": [
    "# Reading from database and putting it in a Gsheet"
   ]
  },
  {
   "cell_type": "code",
   "execution_count": null,
   "metadata": {},
   "outputs": [],
   "source": [
    "import psycopg2\n",
    "import pandas as pd\n",
    "import gspread\n",
    "from oauth2client.service_account import ServiceAccountCredentials\n",
    "\n",
    "database = 'dhc'\n",
    "host = 'forage-dev-db.cod4levdfbtz.ap-south-1.rds.amazonaws.com'\n",
    "username = 'devuser'\n",
    "password = 'Dev#forage!2021'\n",
    "\n",
    "conn = psycopg2.connect(database=database, user=username, password=password, host=host)\n",
    "cur = conn.cursor()\n",
    "cur.execute(\"SELECT * FROM public.mc_output_table mot where dhc_id  = '4346'\")\n",
    "rows = cur.fetchall()\n",
    "headers = [i[0] for i in cur.description]\n",
    "df = pd.DataFrame(rows, columns= headers)\n",
    "df.to_csv('output.csv', index=False)\n",
    "\n",
    "\"\"\"# Define the scope and credentials for Google Sheets API\n",
    "scope = ['https://spreadsheets.google.com/feeds', 'https://www.googleapis.com/auth/drive']\n",
    "credentials = ServiceAccountCredentials.from_json_keyfile_name('credentials.json', scope)\n",
    "\n",
    "# Authenticate and create a client\n",
    "client = gspread.authorize(credentials)\n",
    "\n",
    "# Open the Google Sheet\n",
    "sheet = client.open('Test Python SQL export')\n",
    "\n",
    "# Select the worksheet\n",
    "worksheet = sheet.get_worksheet(0)  # Replace 0 with the index of your desired worksheet\n",
    "\n",
    "# Clear the existing data in the worksheet\n",
    "worksheet.clear()\n",
    "\n",
    "# Export the dataframe to the Google Sheet\n",
    "worksheet.update([df.columns.values.tolist()] + df.values.tolist())\"\"\"\n",
    "\n",
    "conn.close()"
   ]
  },
  {
   "cell_type": "markdown",
   "metadata": {},
   "source": [
    "# Handling iframe cases"
   ]
  },
  {
   "cell_type": "code",
   "execution_count": null,
   "metadata": {},
   "outputs": [],
   "source": [
    "import requests\n",
    "from bs4 import BeautifulSoup   \n",
    "\n",
    "\n",
    "url = 'https://www2.crouse.org/doctor/i_results.asp'\n",
    "\n",
    "# Send an HTTP GET request to the website\n",
    "response = requests.get(url)\n",
    "\n",
    "# Parse the HTML content\n",
    "soup = BeautifulSoup(response.content, 'html.parser')\n",
    "    \n",
    "#print(soup.prettify())\n",
    "\n",
    "doctor = soup.find_all('a', class_='doctor')\n",
    "print(doctor)\n"
   ]
  },
  {
   "cell_type": "code",
   "execution_count": null,
   "metadata": {},
   "outputs": [],
   "source": [
    "from selenium import webdriver\n",
    "from selenium.webdriver.common.keys import Keys\n",
    "from selenium.webdriver.common.by import By\n",
    "\n",
    "i_url = 'https://www2.crouse.org/doctor/i_results.asp'\n",
    "url = 'https://www2.crouse.org/doctor/'\n",
    "\n",
    "# Create a new instance of the Chrome driver\n",
    "driver = webdriver.Chrome()\n",
    "\n",
    "# Navigate to the URL\n",
    "driver.get(url)\n",
    "\n",
    "# Find the search button element and click it\n",
    "search_button = driver.find_element(By.XPATH, \"//input[contains(@value, 'Find A Doctor')]\")\n",
    "search_button.click()\n",
    "\n",
    "new_url = driver.current_url\n",
    "print(new_url)\n",
    "driver.quit()\n"
   ]
  },
  {
   "cell_type": "markdown",
   "metadata": {},
   "source": [
    "# Load more with delay"
   ]
  },
  {
   "cell_type": "code",
   "execution_count": null,
   "metadata": {},
   "outputs": [],
   "source": [
    "from selenium import webdriver\n",
    "from selenium.webdriver.common.keys import Keys\n",
    "from selenium.webdriver.common.by import By\n",
    "from selenium.webdriver.chrome.service import Service\n",
    "import time\n",
    "\n",
    "# Create a new instance of the Chrome driver\n",
    "chrome_driver = \"C:\\\\Users\\\\nyaya\\\\All Scripts\\\\chromedriver-win64\\\\chromedriver.exe\"\n",
    "s = Service(chrome_driver)\n",
    "options = webdriver.ChromeOptions()\n",
    "driver = webdriver.Chrome(service=s, options=options)\n",
    "driver.get('https://www.richlandhospital.com/find-a-provider/')\n",
    "\n",
    "doctor_urls = []\n",
    "\n",
    "load_more_button = driver.find_element(By.XPATH, \"//button[contains(text(), 'LOAD MORE')]\")\n",
    "while load_more_button.is_displayed():\n",
    "    load_more_button.click()\n",
    "    time.sleep(5)\n",
    "    try:\n",
    "        load_more_button = driver.find_element(By.XPATH, \"//button[contains(text(), 'LOAD MORE')]\")\n",
    "    except Exception as e:\n",
    "        break\n",
    "    \n",
    "\n",
    "doctors = driver.find_elements(By.XPATH, \"//h3[contains(@class, 'card-head')]/a\")\n",
    "for doctor in doctors:\n",
    "    doctor_urls.append(doctor.get_attribute('href'))\n",
    "print(doctor_urls)\n",
    "\n",
    "driver.quit()"
   ]
  },
  {
   "cell_type": "code",
   "execution_count": null,
   "metadata": {},
   "outputs": [],
   "source": [
    "from selenium import webdriver\n",
    "from selenium.webdriver.common.keys import Keys\n",
    "from selenium.webdriver.common.by import By\n",
    "import time\n",
    "\n",
    "# Create a new instance of the Chrome driver\n",
    "driver = webdriver.Chrome()\n",
    "page_count = 808\n",
    "url = 'https://www.providence.org/doctors?region=kadlec&brand=providence&page=1&query=&time=any&userlocation=undefined'\n",
    "driver.get(url)\n",
    "time.sleep(20)\n",
    "\n",
    "doctor_urls = []\n",
    "for i in range(1, page_count):\n",
    "    url = f'https://www.providence.org/doctors?region=kadlec&brand=providence&page={i}&query=&time=any&userlocation=undefined'\n",
    "    driver.get(url)\n",
    "    time.sleep(20)\n",
    "    doctors = driver.find_elements(By.XPATH, \"//a[contains(@class, 'provider-link')]\")\n",
    "    for doctor in doctors:\n",
    "        doctor_urls.append(doctor.get_attribute('href'))\n",
    "    print(f'Page {i} done')\n",
    "\n",
    "doctor_urls = list(set(doctor_urls))\n",
    "print(\"total count: \", len(doctor_urls))\n",
    "print(doctor_urls)\n",
    "    \n",
    "driver.quit()"
   ]
  },
  {
   "cell_type": "markdown",
   "metadata": {},
   "source": [
    "# Testing out SQLAlchemy"
   ]
  },
  {
   "cell_type": "code",
   "execution_count": null,
   "metadata": {},
   "outputs": [],
   "source": [
    "from sqlalchemy import create_engine, Column, Integer, String, Sequence\n",
    "from sqlalchemy.ext.declarative import declarative_base\n",
    "from sqlalchemy.orm import sessionmaker\n",
    "import csv\n",
    "import gspread\n",
    "from oauth2client.service_account import ServiceAccountCredentials\n",
    "\n",
    "# SQLAlchemy Setup\n",
    "Base = declarative_base()\n",
    "\n",
    "class User(Base):\n",
    "    __tablename__ = 'users'\n",
    "    id = Column(Integer, Sequence('user_id_seq'), primary_key=True)\n",
    "    name = Column(String(50))\n",
    "    age = Column(Integer)\n",
    "\n",
    "engine = create_engine('sqlite:///example.db')  # Use your database connection string\n",
    "Base.metadata.create_all(engine)\n",
    "\n",
    "# Google Sheets Setup\n",
    "scope = ['https://spreadsheets.google.com/feeds', 'https://www.googleapis.com/auth/drive']\n",
    "credentials = ServiceAccountCredentials.from_json_keyfile_name('C:/Users/nyaya/All Scripts/GSheet API key/scraping-2024-key.json', scope)\n",
    "gc = gspread.authorize(credentials)\n",
    "spreadsheet_key = 'your_google_sheet_key'  # Replace with your Google Sheet key\n",
    "\n",
    "# SQLAlchemy Query\n",
    "Session = sessionmaker(bind=engine)\n",
    "session = Session()\n",
    "\n",
    "# Assume you have some data in the database\n",
    "users = session.query(User).all()\n",
    "\n",
    "# Write data to CSV\n",
    "csv_filename = 'users_data.csv'\n",
    "with open(csv_filename, 'w', newline='') as csv_file:\n",
    "    csv_writer = csv.writer(csv_file)\n",
    "    \n",
    "    # Write header\n",
    "    csv_writer.writerow(['ID', 'Name', 'Age'])\n",
    "    \n",
    "    # Write data\n",
    "    for user in users:\n",
    "        csv_writer.writerow([user.id, user.name, user.age])\n",
    "\n",
    "# Upload CSV data to Google Sheet\n",
    "worksheet_name = 'Users Data'\n",
    "worksheet = gc.open_by_key(spreadsheet_key).add_worksheet(worksheet_name, 1, 1)\n",
    "worksheet.append_table(values=open(csv_filename).read())\n",
    "print(f'Data uploaded to {worksheet_name} in Google Sheet.')\n",
    "\n",
    "# Close the session\n",
    "session.close()\n"
   ]
  },
  {
   "cell_type": "markdown",
   "metadata": {},
   "source": [
    "# Code for trying XHR sample website"
   ]
  },
  {
   "cell_type": "code",
   "execution_count": null,
   "metadata": {},
   "outputs": [],
   "source": [
    "import requests\n",
    "\n",
    "url = 'https://jsonplaceholder.typicode.com/posts/1'\n",
    "\n",
    "response = requests.get(url)\n",
    "if response.status_code == 200:\n",
    "    # Print the response content\n",
    "    print(response.json())\n",
    "else:\n",
    "    # print error mesaage\n",
    "    print(f\"Error: {response.status_code}\")\n"
   ]
  },
  {
   "cell_type": "markdown",
   "metadata": {},
   "source": [
    "# More examples for scraping"
   ]
  },
  {
   "cell_type": "code",
   "execution_count": null,
   "metadata": {},
   "outputs": [],
   "source": [
    "import requests\n",
    "from bs4 import BeautifulSoup\n",
    "from lxml import html\n",
    "\n",
    "url ='https://weather.com/en-IN/weather/today/l/17.38,78.47'\n",
    "r = requests.get(url) \n",
    "tree = html.fromstring(r.content)\n",
    "\n",
    "if response.status_code == 200:\n",
    "    soup = BeautifulSoup(r.text, 'html.parser')\n",
    "    temperature = tree.xpath('//span[contains(@class, \"CurrentConditions--tempValue\")]/text()')\n",
    "    condition = tree.xpath('//div[contains(@class, \"CurrentConditions--phraseValue\")]/text()')\n",
    "\n",
    "    print(f\"Current weather is {temperature[0]}°C, {condition[0]}.\")\n",
    "else:\n",
    "    print(f\"Failed to fetch weather data. Status code: {response.status_code}\")\n"
   ]
  },
  {
   "cell_type": "code",
   "execution_count": null,
   "metadata": {},
   "outputs": [],
   "source": [
    "import requests\n",
    "\n",
    "url = 'https://www.providence.org/doctors?region=kadlec&brand=providence&page=1&query=&time=any&userlocation=undefined'\n",
    "\n",
    "# Send a POST request to the URL\n",
    "response = requests.post(url)\n",
    "\n",
    "if response.status_code == 200:\n",
    "    # Extract doctor URLs from the response content\n",
    "    doctor_urls = []\n",
    "    data = response.json()\n",
    "    for doctor in data['doctors']:\n",
    "        doctor_urls.append(doctor['url'])\n",
    "    \n",
    "    print(doctor_urls)\n",
    "else:\n",
    "    print(f\"Failed to fetch doctor URLs. Status code: {response.status_code}\")\n"
   ]
  },
  {
   "cell_type": "code",
   "execution_count": null,
   "metadata": {},
   "outputs": [],
   "source": [
    "url = 'https://www.richlandhospital.com/find-a-provider/'"
   ]
  },
  {
   "cell_type": "markdown",
   "metadata": {},
   "source": [
    "#Getting payload from website"
   ]
  },
  {
   "cell_type": "code",
   "execution_count": null,
   "metadata": {},
   "outputs": [],
   "source": [
    "import requests\n",
    "\n",
    "url = \"https://www.henryford.com/physician-directory/search-results?#q=&physicianspecialties=&providersname=&scheduleonline=&Medical%20Group=&AcceptsNewPatients=&physicianlocations=&Gender=&zip=&Languages%20Spoken=&Hospital%20Afilliations={CA4C40E3-7DD9-49A2-BA07-5A77955468EC}&o=PhysicianName&m=0|0\"\n",
    "\n",
    "response = requests.get(url)\n",
    "soup = BeautifulSoup(response.content, 'html.parser')\n",
    "doctors = soup.find_all('div', class_='physician-info')\n",
    "for doctor in doctors:\n",
    "    link = doctor.find('a')\n",
    "    doctor_urls.append(link['href'])"
   ]
  },
  {
   "cell_type": "code",
   "execution_count": null,
   "metadata": {},
   "outputs": [],
   "source": [
    "from selenium import webdriver\n",
    "from selenium.webdriver.common.keys import Keys\n",
    "from selenium.webdriver.common.by import By\n",
    "import time\n",
    "\n",
    "url= 'https://www.waterburyhospital.org/provider-search/'\n",
    "driver = webdriver.Chrome()\n",
    "page_count =63\n",
    "i = 1\n",
    "doctor_urls = []\n",
    "while page_count >= 60:\n",
    "    driver.get(url)\n",
    "    time.sleep(5)\n",
    "    doctors = driver.find_elements(By.XPATH, \"//h4[contains(@class, 'profile-name-heading')]/a\")\n",
    "    for doctor in doctors:\n",
    "        print(doctor.get_attribute('href'))\n",
    "    print(\"Page {i} done.\")\n",
    "    try:\n",
    "        driver.find_element(By.XPATH, \"//button[contains(@class, 'btn-chevron-right')]\").click()\n",
    "        page_count -= 1\n",
    "    except:\n",
    "        print(\"Pagination failed\")\n"
   ]
  },
  {
   "cell_type": "code",
   "execution_count": null,
   "metadata": {},
   "outputs": [],
   "source": [
    "from selenium import webdriver\n",
    "from selenium.webdriver.common.by import By\n",
    "from selenium.webdriver.common.keys import Keys\n",
    "\n",
    "driver = webdriver.Chrome()\n",
    "url = 'https://www.wellstar.org/physicians?wellstar%2Bmedical%2Bgroup=1&v=1'\n",
    "driver.get(url)\n"
   ]
  },
  {
   "cell_type": "code",
   "execution_count": null,
   "metadata": {},
   "outputs": [],
   "source": [
    "https://www.nm.org/doctors/search-results?medicalgrouplist=nmg&medicalgrouplist=northwesternmedicineregionalmedicalgroup&sort=distance&page=1&pagesize=96"
   ]
  },
  {
   "cell_type": "code",
   "execution_count": null,
   "metadata": {},
   "outputs": [],
   "source": [
    "from selenium import webdriver\n",
    "from selenium.webdriver.common.keys import Keys\n",
    "from selenium.webdriver.common.by import By\n",
    "\n",
    "driver =webdriver.Chrome()\n",
    "url = 'https://www.wellstar.org/physicians?wellstar%2Bmedical%2Bgroup=1&v=1'\n",
    "driver.get(url)\n"
   ]
  },
  {
   "cell_type": "code",
   "execution_count": null,
   "metadata": {},
   "outputs": [],
   "source": [
    "from selenium import webdriver\n",
    "from selenium.webdriver.common.by import By\n",
    "from selenium.webdriver.common.keys import Keys\n",
    "from selenium.webdriver.common.action_chains import ActionChains\n",
    "import time\n",
    "\n",
    "# Start a new instance of Chrome WebDriver\n",
    "driver = webdriver.Chrome()\n",
    "\n",
    "# Open the website\n",
    "driver.get(\"https://www.wellstar.org/physicians?wellstar%2Bmedical%2Bgroup=1&v=1\")\n",
    "\n",
    "# Wait for some time to allow the page to load\n",
    "time.sleep(3)\n",
    "\n",
    "# Define a function to scroll to the bottom of the page\n",
    "def scroll_to_bottom():\n",
    "    # Scroll down using JavaScript\n",
    "    driver.execute_script(\"window.scrollTo(0, document.body.scrollHeight);\")\n",
    "    # Wait for some time after scrolling\n",
    "    time.sleep(2)\n",
    "\n",
    "# Perform scrolling multiple times to reach the bottom of the page\n",
    "for _ in range(5):  # You can adjust the number of times you want to scroll\n",
    "    scroll_to_bottom()\n",
    "\n",
    "# After scrolling, you can perform other actions on the page if needed\n",
    "\n",
    "# Close the browser\n",
    "driver.quit()\n"
   ]
  },
  {
   "cell_type": "code",
   "execution_count": 13,
   "metadata": {},
   "outputs": [
    {
     "ename": "NameError",
     "evalue": "name 'BaseScript' is not defined",
     "output_type": "error",
     "traceback": [
      "\u001b[1;31m---------------------------------------------------------------------------\u001b[0m",
      "\u001b[1;31mNameError\u001b[0m                                 Traceback (most recent call last)",
      "Cell \u001b[1;32mIn[13], line 5\u001b[0m\n\u001b[0;32m      2\u001b[0m \u001b[38;5;28;01mfrom\u001b[39;00m \u001b[38;5;21;01mselenium\u001b[39;00m\u001b[38;5;21;01m.\u001b[39;00m\u001b[38;5;21;01mwebdriver\u001b[39;00m\u001b[38;5;21;01m.\u001b[39;00m\u001b[38;5;21;01mcommon\u001b[39;00m\u001b[38;5;21;01m.\u001b[39;00m\u001b[38;5;21;01mby\u001b[39;00m \u001b[38;5;28;01mimport\u001b[39;00m By\n\u001b[0;32m      3\u001b[0m \u001b[38;5;28;01mimport\u001b[39;00m \u001b[38;5;21;01mtime\u001b[39;00m\n\u001b[1;32m----> 5\u001b[0m \u001b[38;5;28;01mclass\u001b[39;00m \u001b[38;5;21;01mOptum\u001b[39;00m(\u001b[43mBaseScript\u001b[49m):\n\u001b[0;32m      6\u001b[0m     count \u001b[38;5;241m=\u001b[39m \u001b[38;5;241m1\u001b[39m\n\u001b[0;32m      7\u001b[0m     doctor_urls \u001b[38;5;241m=\u001b[39m []\n",
      "\u001b[1;31mNameError\u001b[0m: name 'BaseScript' is not defined"
     ]
    }
   ],
   "source": [
    "from selenium import webdriver\n",
    "from selenium.webdriver.common.by import By\n",
    "import time\n",
    "\n",
    "class Optum(BaseScript):\n",
    "    count = 1\n",
    "    doctor_urls = []\n",
    "    web_suffix = 'https://www.optum.com/en/care'\n",
    "    driver =webdriver.Chrome('D:\\Work\\Forage AI\\MC\\minicrawl\\configs\\chromedriver-win64\\chromedriver.exe')\n",
    "    while count <= 9:\n",
    "        driver.get('https://www.optum.com/en/care/locations/colorado/optum-colorado/locations-nav/provider-lookup/provider-search-results.html?network=CONWP')\n",
    "        time.sleep(3)\n",
    "\n",
    "        doctors = driver.find_elements(By.XPATH, \"//div[contains(@class, 'team__link')]\")\n",
    "        for doctor in doctors:\n",
    "            url = web_suffix + doctor.get_attribute('data-route')\n",
    "            doctor_urls.append(url)\n",
    "\n",
    "        print(\"Page {count} done.\")\n",
    "        count = count + 1\n",
    "    print(len(doctor_urls))\n",
    "    driver.quit()"
   ]
  },
  {
   "cell_type": "code",
   "execution_count": 16,
   "metadata": {},
   "outputs": [
    {
     "name": "stderr",
     "output_type": "stream",
     "text": [
      "C:\\Users\\nyaya\\AppData\\Local\\Temp\\ipykernel_29976\\146479786.py:8: DeprecationWarning: executable_path has been deprecated, please pass in a Service object\n",
      "  driver =webdriver.Chrome('D:\\Work\\Forage AI\\MC\\minicrawl\\configs\\chromedriver-win64\\chromedriver.exe')\n"
     ]
    },
    {
     "name": "stdout",
     "output_type": "stream",
     "text": [
      "Page 1 done. 25\n",
      "Page 2 done. 50\n",
      "Page 3 done. 75\n",
      "Page 4 done. 100\n",
      "Page 5 done. 125\n",
      "Page 6 done. 150\n",
      "Page 7 done. 175\n",
      "Page 8 done. 200\n",
      "Page 9 done. 223\n",
      "Elementclick failed\n",
      "223\n"
     ]
    }
   ],
   "source": [
    "from selenium import webdriver\n",
    "from selenium.webdriver.common.by import By\n",
    "import time\n",
    "\n",
    "count = 1\n",
    "doctor_urls = []\n",
    "web_suffix = 'https://www.optum.com/en/care'\n",
    "driver =webdriver.Chrome('D:\\Work\\Forage AI\\MC\\minicrawl\\configs\\chromedriver-win64\\chromedriver.exe')\n",
    "while count <= 9:\n",
    "    driver.get('https://www.optum.com/en/care/locations/colorado/optum-colorado/locations-nav/provider-lookup/provider-search-results.html?network=CONWP')\n",
    "    time.sleep(3)\n",
    "\n",
    "    doctors = driver.find_elements(By.XPATH, \"//div[contains(@class, 'team__link')]\")\n",
    "    for doctor in doctors:\n",
    "        url = web_suffix + doctor.get_attribute('data-route')\n",
    "        doctor_urls.append(url)\n",
    "    try:\n",
    "        print(f\"Page {count} done.\", len(doctor_urls))\n",
    "        driver.find_element(By.XPATH, '//button[contains(@aria-label, \"Next page\")]').click()\n",
    "        time.sleep(3)\n",
    "        count = count + 1\n",
    "    except:\n",
    "        print(\"Elementclick failed\")\n",
    "        break\n",
    "    \n",
    "print(len(doctor_urls))\n",
    "driver.quit()"
   ]
  },
  {
   "cell_type": "code",
   "execution_count": 17,
   "metadata": {},
   "outputs": [
    {
     "name": "stdout",
     "output_type": "stream",
     "text": [
      "223\n"
     ]
    }
   ],
   "source": []
  },
  {
   "cell_type": "code",
   "execution_count": null,
   "metadata": {},
   "outputs": [],
   "source": []
  }
 ],
 "metadata": {
  "kernelspec": {
   "display_name": "Python 3",
   "language": "python",
   "name": "python3"
  },
  "language_info": {
   "codemirror_mode": {
    "name": "ipython",
    "version": 3
   },
   "file_extension": ".py",
   "mimetype": "text/x-python",
   "name": "python",
   "nbconvert_exporter": "python",
   "pygments_lexer": "ipython3",
   "version": "3.10.11"
  }
 },
 "nbformat": 4,
 "nbformat_minor": 2
}
