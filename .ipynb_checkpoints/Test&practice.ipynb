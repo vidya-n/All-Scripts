{
 "cells": [
  {
   "cell_type": "markdown",
   "metadata": {},
   "source": [
    "# Reading from database and putting it in a Gsheet"
   ]
  },
  {
   "cell_type": "code",
   "execution_count": null,
   "metadata": {},
   "outputs": [],
   "source": [
    "import psycopg2\n",
    "import pandas as pd\n",
    "import gspread\n",
    "from oauth2client.service_account import ServiceAccountCredentials\n",
    "\n",
    "database = 'dhc'\n",
    "host = 'forage-dev-db.cod4levdfbtz.ap-south-1.rds.amazonaws.com'\n",
    "username = 'devuser'\n",
    "password = 'Dev#forage!2021'\n",
    "\n",
    "conn = psycopg2.connect(database=database, user=username, password=password, host=host)\n",
    "cur = conn.cursor()\n",
    "cur.execute(\"SELECT * FROM public.mc_output_table mot where dhc_id  = '4346'\")\n",
    "rows = cur.fetchall()\n",
    "headers = [i[0] for i in cur.description]\n",
    "df = pd.DataFrame(rows, columns= headers)\n",
    "df.to_csv('output.csv', index=False)\n",
    "\n",
    "\"\"\"# Define the scope and credentials for Google Sheets API\n",
    "scope = ['https://spreadsheets.google.com/feeds', 'https://www.googleapis.com/auth/drive']\n",
    "credentials = ServiceAccountCredentials.from_json_keyfile_name('credentials.json', scope)\n",
    "\n",
    "# Authenticate and create a client\n",
    "client = gspread.authorize(credentials)\n",
    "\n",
    "# Open the Google Sheet\n",
    "sheet = client.open('Test Python SQL export')\n",
    "\n",
    "# Select the worksheet\n",
    "worksheet = sheet.get_worksheet(0)  # Replace 0 with the index of your desired worksheet\n",
    "\n",
    "# Clear the existing data in the worksheet\n",
    "worksheet.clear()\n",
    "\n",
    "# Export the dataframe to the Google Sheet\n",
    "worksheet.update([df.columns.values.tolist()] + df.values.tolist())\"\"\"\n",
    "\n",
    "conn.close()"
   ]
  },
  {
   "cell_type": "markdown",
   "metadata": {},
   "source": [
    "# Handling iframe cases"
   ]
  },
  {
   "cell_type": "code",
   "execution_count": 5,
   "metadata": {},
   "outputs": [
    {
     "name": "stdout",
     "output_type": "stream",
     "text": [
      "[]\n"
     ]
    }
   ],
   "source": [
    "import requests\n",
    "from bs4 import BeautifulSoup   \n",
    "\n",
    "\n",
    "url = 'https://www2.crouse.org/doctor/i_results.asp'\n",
    "\n",
    "# Send an HTTP GET request to the website\n",
    "response = requests.get(url)\n",
    "\n",
    "# Parse the HTML content\n",
    "soup = BeautifulSoup(response.content, 'html.parser')\n",
    "    \n",
    "#print(soup.prettify())\n",
    "\n",
    "doctor = soup.find_all('a', class_='doctor')\n",
    "print(doctor)\n"
   ]
  },
  {
   "cell_type": "code",
   "execution_count": 7,
   "metadata": {},
   "outputs": [
    {
     "name": "stdout",
     "output_type": "stream",
     "text": [
      "https://www2.crouse.org/doctor/results.asp\n"
     ]
    }
   ],
   "source": [
    "from selenium import webdriver\n",
    "from selenium.webdriver.common.keys import Keys\n",
    "from selenium.webdriver.common.by import By\n",
    "\n",
    "i_url = 'https://www2.crouse.org/doctor/i_results.asp'\n",
    "url = 'https://www2.crouse.org/doctor/'\n",
    "\n",
    "# Create a new instance of the Chrome driver\n",
    "driver = webdriver.Chrome()\n",
    "\n",
    "# Navigate to the URL\n",
    "driver.get(url)\n",
    "\n",
    "# Find the search button element and click it\n",
    "search_button = driver.find_element(By.XPATH, \"//input[contains(@value, 'Find A Doctor')]\")\n",
    "search_button.click()\n",
    "\n",
    "new_url = driver.current_url\n",
    "print(new_url)\n",
    "driver.quit()\n"
   ]
  },
  {
   "cell_type": "markdown",
   "metadata": {},
   "source": [
    "# Load more with delay"
   ]
  },
  {
   "cell_type": "code",
   "execution_count": 14,
   "metadata": {},
   "outputs": [
    {
     "name": "stdout",
     "output_type": "stream",
     "text": [
      "['https://www.richlandhospital.com/provider/africano-enrique/', 'https://www.richlandhospital.com/provider/auliff-marcia/', 'https://www.richlandhospital.com/provider/balink-kay/', 'https://www.richlandhospital.com/provider/banker-laci/', 'https://www.richlandhospital.com/provider/bard-neil/', 'https://www.richlandhospital.com/provider/beck-thomas/', 'https://www.richlandhospital.com/provider/burtrick-robin/', 'https://www.richlandhospital.com/provider/cherry-andrea/', 'https://www.richlandhospital.com/provider/cornelius-cristine/', 'https://www.richlandhospital.com/provider/dickman-james/', 'https://www.richlandhospital.com/provider/ellias-yakub-2/', 'https://www.richlandhospital.com/provider/ewing-allison/', 'https://www.richlandhospital.com/provider/gilbertson-anna/', 'https://www.richlandhospital.com/provider/grade-matthew/', 'https://www.richlandhospital.com/provider/grossen-nicole/', 'https://www.richlandhospital.com/provider/harpin-chris/', 'https://www.richlandhospital.com/provider/huber-heidi/', 'https://www.richlandhospital.com/provider/kroll-brian/', 'https://www.richlandhospital.com/provider/lawler-taryn/', 'https://www.richlandhospital.com/provider/lumi-crystal/', 'https://www.richlandhospital.com/provider/may-david/', 'https://www.richlandhospital.com/provider/mccarvel-bryan/', 'https://www.richlandhospital.com/provider/mysa-nguyen-md/', 'https://www.richlandhospital.com/provider/neumaier-tanya/', 'https://www.richlandhospital.com/provider/puls-kathryn/', 'https://www.richlandhospital.com/provider/rebecca-malkow-apnp/', 'https://www.richlandhospital.com/provider/reisdorph-brenda/', 'https://www.richlandhospital.com/provider/richards-christine/', 'https://www.richlandhospital.com/provider/rundell-joseph/', 'https://www.richlandhospital.com/provider/schwartz-nate/', 'https://www.richlandhospital.com/provider/sinnett-karen/', 'https://www.richlandhospital.com/provider/taylor-jenna/', 'https://www.richlandhospital.com/provider/thomas-lauren/', 'https://www.richlandhospital.com/provider/wolk-stephen/', 'https://www.richlandhospital.com/provider/wright-andrew/']\n"
     ]
    }
   ],
   "source": [
    "from selenium import webdriver\n",
    "from selenium.webdriver.common.keys import Keys\n",
    "from selenium.webdriver.common.by import By\n",
    "import time\n",
    "\n",
    "# Create a new instance of the Chrome driver\n",
    "driver = webdriver.Chrome()\n",
    "driver.get('https://www.richlandhospital.com/find-a-provider/')\n",
    "\n",
    "doctor_urls = []\n",
    "\n",
    "load_more_button = driver.find_element(By.XPATH, \"//button[contains(text(), 'LOAD MORE')]\")\n",
    "while load_more_button.is_displayed():\n",
    "    load_more_button.click()\n",
    "    time.sleep(5)\n",
    "    try:\n",
    "        load_more_button = driver.find_element(By.XPATH, \"//button[contains(text(), 'LOAD MORE')]\")\n",
    "    except Exception as e:\n",
    "        break\n",
    "    \n",
    "\n",
    "doctors = driver.find_elements(By.XPATH, \"//h3[contains(@class, 'card-head')]/a\")\n",
    "for doctor in doctors:\n",
    "    doctor_urls.append(doctor.get_attribute('href'))\n",
    "print(doctor_urls)\n",
    "\n",
    "driver.quit()"
   ]
  },
  {
   "cell_type": "code",
   "execution_count": null,
   "metadata": {},
   "outputs": [],
   "source": [
    "from selenium import webdriver\n",
    "from selenium.webdriver.common.keys import Keys\n",
    "from selenium.webdriver.common.by import By\n",
    "import time\n",
    "\n",
    "# Create a new instance of the Chrome driver\n",
    "driver = webdriver.Chrome()\n",
    "page_count = 808\n",
    "url = 'https://www.providence.org/doctors?region=kadlec&brand=providence&page=1&query=&time=any&userlocation=undefined'\n",
    "driver.get(url)\n",
    "time.sleep(20)\n",
    "\n",
    "doctor_urls = []\n",
    "for i in range(1, page_count):\n",
    "    url = f'https://www.providence.org/doctors?region=kadlec&brand=providence&page={i}&query=&time=any&userlocation=undefined'\n",
    "    driver.get(url)\n",
    "    time.sleep(20)\n",
    "    doctors = driver.find_elements(By.XPATH, \"//a[contains(@class, 'provider-link')]\")\n",
    "    for doctor in doctors:\n",
    "        doctor_urls.append(doctor.get_attribute('href'))\n",
    "    print(f'Page {i} done')\n",
    "\n",
    "doctor_urls = list(set(doctor_urls))\n",
    "print(\"total count: \", len(doctor_urls))\n",
    "print(doctor_urls)\n",
    "    \n",
    "driver.quit()"
   ]
  },
  {
   "cell_type": "markdown",
   "metadata": {},
   "source": [
    "# Testing out SQLAlchemy"
   ]
  },
  {
   "cell_type": "code",
   "execution_count": null,
   "metadata": {},
   "outputs": [],
   "source": [
    "from sqlalchemy import create_engine, Column, Integer, String, Sequence\n",
    "from sqlalchemy.ext.declarative import declarative_base\n",
    "from sqlalchemy.orm import sessionmaker\n",
    "import csv\n",
    "import gspread\n",
    "from oauth2client.service_account import ServiceAccountCredentials\n",
    "\n",
    "# SQLAlchemy Setup\n",
    "Base = declarative_base()\n",
    "\n",
    "class User(Base):\n",
    "    __tablename__ = 'users'\n",
    "    id = Column(Integer, Sequence('user_id_seq'), primary_key=True)\n",
    "    name = Column(String(50))\n",
    "    age = Column(Integer)\n",
    "\n",
    "engine = create_engine('sqlite:///example.db')  # Use your database connection string\n",
    "Base.metadata.create_all(engine)\n",
    "\n",
    "# Google Sheets Setup\n",
    "scope = ['https://spreadsheets.google.com/feeds', 'https://www.googleapis.com/auth/drive']\n",
    "credentials = ServiceAccountCredentials.from_json_keyfile_name('C:/Users/nyaya/All Scripts/GSheet API key/scraping-2024-key.json', scope)\n",
    "gc = gspread.authorize(credentials)\n",
    "spreadsheet_key = 'your_google_sheet_key'  # Replace with your Google Sheet key\n",
    "\n",
    "# SQLAlchemy Query\n",
    "Session = sessionmaker(bind=engine)\n",
    "session = Session()\n",
    "\n",
    "# Assume you have some data in the database\n",
    "users = session.query(User).all()\n",
    "\n",
    "# Write data to CSV\n",
    "csv_filename = 'users_data.csv'\n",
    "with open(csv_filename, 'w', newline='') as csv_file:\n",
    "    csv_writer = csv.writer(csv_file)\n",
    "    \n",
    "    # Write header\n",
    "    csv_writer.writerow(['ID', 'Name', 'Age'])\n",
    "    \n",
    "    # Write data\n",
    "    for user in users:\n",
    "        csv_writer.writerow([user.id, user.name, user.age])\n",
    "\n",
    "# Upload CSV data to Google Sheet\n",
    "worksheet_name = 'Users Data'\n",
    "worksheet = gc.open_by_key(spreadsheet_key).add_worksheet(worksheet_name, 1, 1)\n",
    "worksheet.append_table(values=open(csv_filename).read())\n",
    "print(f'Data uploaded to {worksheet_name} in Google Sheet.')\n",
    "\n",
    "# Close the session\n",
    "session.close()\n"
   ]
  },
  {
   "cell_type": "markdown",
   "metadata": {},
   "source": [
    "# Code for trying XHR sample website"
   ]
  },
  {
   "cell_type": "code",
   "execution_count": 1,
   "metadata": {},
   "outputs": [
    {
     "name": "stdout",
     "output_type": "stream",
     "text": [
      "{'userId': 1, 'id': 1, 'title': 'sunt aut facere repellat provident occaecati excepturi optio reprehenderit', 'body': 'quia et suscipit\\nsuscipit recusandae consequuntur expedita et cum\\nreprehenderit molestiae ut ut quas totam\\nnostrum rerum est autem sunt rem eveniet architecto'}\n"
     ]
    }
   ],
   "source": [
    "import requests\n",
    "\n",
    "url = 'https://jsonplaceholder.typicode.com/posts/1'\n",
    "\n",
    "response = requests.get(url)\n",
    "if response.status_code == 200:\n",
    "    # Print the response content\n",
    "    print(response.json())\n",
    "else:\n",
    "    # print error mesaage\n",
    "    print(f\"Error: {response.status_code}\")\n"
   ]
  },
  {
   "cell_type": "markdown",
   "metadata": {},
   "source": [
    "# More examples for scraping"
   ]
  },
  {
   "cell_type": "code",
   "execution_count": 13,
   "metadata": {},
   "outputs": [
    {
     "name": "stdout",
     "output_type": "stream",
     "text": [
      "Current weather is 36°C, Partly Cloudy.\n"
     ]
    }
   ],
   "source": [
    "import requests\n",
    "from bs4 import BeautifulSoup\n",
    "from lxml import html\n",
    "\n",
    "url ='https://weather.com/en-IN/weather/today/l/17.38,78.47'\n",
    "r = requests.get(url) \n",
    "tree = html.fromstring(r.content)\n",
    "\n",
    "if response.status_code == 200:\n",
    "    soup = BeautifulSoup(r.text, 'html.parser')\n",
    "    temperature = tree.xpath('//span[contains(@class, \"CurrentConditions--tempValue\")]/text()')\n",
    "    condition = tree.xpath('//div[contains(@class, \"CurrentConditions--phraseValue\")]/text()')\n",
    "\n",
    "    print(f\"Current weather is {temperature[0]}°C, {condition[0]}.\")\n",
    "else:\n",
    "    print(f\"Failed to fetch weather data. Status code: {response.status_code}\")\n"
   ]
  },
  {
   "cell_type": "code",
   "execution_count": 15,
   "metadata": {},
   "outputs": [
    {
     "name": "stdout",
     "output_type": "stream",
     "text": [
      "Failed to fetch doctor URLs. Status code: 403\n"
     ]
    }
   ],
   "source": [
    "import requests\n",
    "\n",
    "url = 'https://www.providence.org/doctors?region=kadlec&brand=providence&page=1&query=&time=any&userlocation=undefined'\n",
    "\n",
    "# Send a POST request to the URL\n",
    "response = requests.post(url)\n",
    "\n",
    "if response.status_code == 200:\n",
    "    # Extract doctor URLs from the response content\n",
    "    doctor_urls = []\n",
    "    data = response.json()\n",
    "    for doctor in data['doctors']:\n",
    "        doctor_urls.append(doctor['url'])\n",
    "    \n",
    "    print(doctor_urls)\n",
    "else:\n",
    "    print(f\"Failed to fetch doctor URLs. Status code: {response.status_code}\")\n"
   ]
  },
  {
   "cell_type": "code",
   "execution_count": null,
   "metadata": {},
   "outputs": [],
   "source": []
  }
 ],
 "metadata": {
  "kernelspec": {
   "display_name": "Python 3",
   "language": "python",
   "name": "python3"
  },
  "language_info": {
   "codemirror_mode": {
    "name": "ipython",
    "version": 3
   },
   "file_extension": ".py",
   "mimetype": "text/x-python",
   "name": "python",
   "nbconvert_exporter": "python",
   "pygments_lexer": "ipython3",
   "version": "3.10.11"
  }
 },
 "nbformat": 4,
 "nbformat_minor": 2
}
