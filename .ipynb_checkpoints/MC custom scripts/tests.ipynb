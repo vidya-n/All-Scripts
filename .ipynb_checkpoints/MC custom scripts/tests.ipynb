{
 "cells": [
  {
   "cell_type": "markdown",
   "metadata": {},
   "source": [
    "# Morehousehealthcare"
   ]
  },
  {
   "cell_type": "code",
   "execution_count": 18,
   "metadata": {},
   "outputs": [
    {
     "name": "stdout",
     "output_type": "stream",
     "text": [
      "https://www.morehousehealthcare.com/physicians/chpm/rooke-jennifer.php\n",
      "https://www.morehousehealthcare.com/physicians/chpm/tables-lakesha.php\n",
      "https://www.morehousehealthcare.com/physicians/familymed/babalola-dolapo.php\n",
      "https://www.morehousehealthcare.com/physicians/familymed/carter-wicker-kitty.php\n",
      "https://www.morehousehealthcare.com/physicians/familymed/collins-marietta.php\n",
      "https://www.morehousehealthcare.com/physicians/familymed/fasuyi-omofolarin.php\n",
      "https://www.morehousehealthcare.com/physicians/familymed/kelsey-harris-riba.php\n",
      "https://www.morehousehealthcare.com/physicians/familymed/lapedis-marissa.php\n",
      "https://www.morehousehealthcare.com/physicians/familymed/mccann-ashley.php\n",
      "https://www.morehousehealthcare.com/physicians/familymed/meng-yuan-xiang.php\n",
      "https://www.morehousehealthcare.com/physicians/familymed/mobolaji-afolake.php\n",
      "https://www.morehousehealthcare.com/physicians/familymed/omole-folashade.php\n",
      "https://www.morehousehealthcare.com/physicians/familymed/powell-lawrence.php\n",
      "https://www.morehousehealthcare.com/physicians/familymed/rodneysha_brown.php\n",
      "https://www.morehousehealthcare.com/physicians/familymed/smith-walkitria.php\n",
      "https://www.morehousehealthcare.com/physicians/familymed/williams-robert-jr.php\n",
      "https://www.morehousehealthcare.com/physicians/medicine/CassandraTreadway.php\n",
      "https://www.morehousehealthcare.com/physicians/medicine/TawianLivingston.php\n",
      "https://www.morehousehealthcare.com/physicians/medicine/anderson-david.php\n",
      "https://www.morehousehealthcare.com/physicians/medicine/bashir-khalid.php\n",
      "https://www.morehousehealthcare.com/physicians/medicine/blake-victor.php\n",
      "https://www.morehousehealthcare.com/physicians/medicine/branson-chantale.php\n",
      "https://www.morehousehealthcare.com/physicians/medicine/crawford-marvin.php\n",
      "https://www.morehousehealthcare.com/physicians/medicine/fransua-mesfin.php\n",
      "https://www.morehousehealthcare.com/physicians/medicine/ghali-jalal.php\n",
      "https://www.morehousehealthcare.com/physicians/medicine/jain-sanjay.php\n",
      "https://www.morehousehealthcare.com/physicians/medicine/kollepara-sri-lakshmi.php\n",
      "https://www.morehousehealthcare.com/physicians/medicine/oduwole-adefisayo.php\n",
      "https://www.morehousehealthcare.com/physicians/medicine/ofili-elizabeth.php\n",
      "https://www.morehousehealthcare.com/physicians/medicine/onwuanyi-anekwe.php\n",
      "https://www.morehousehealthcare.com/physicians/medicine/taylor_randolph.php\n",
      "https://www.morehousehealthcare.com/physicians/medicine/westney-gloria.php\n",
      "https://www.morehousehealthcare.com/physicians/obgyn/chambers-terri.php\n",
      "https://www.morehousehealthcare.com/physicians/obgyn/franklin-cheryl.php\n",
      "https://www.morehousehealthcare.com/physicians/obgyn/geary-franklyn.php\n",
      "https://www.morehousehealthcare.com/physicians/obgyn/lee-regina.php\n",
      "https://www.morehousehealthcare.com/physicians/obgyn/matthews-roland.php\n",
      "https://www.morehousehealthcare.com/physicians/obgyn/mitchell-leef-dorothy.php\n",
      "https://www.morehousehealthcare.com/physicians/obgyn/simmons-barbara.php\n",
      "https://www.morehousehealthcare.com/physicians/obgyn/williams-robert.php\n",
      "https://www.morehousehealthcare.com/physicians/pediatrics/chin-nicola.php\n",
      "https://www.morehousehealthcare.com/physicians/pediatrics/ebba-ebba.php\n",
      "https://www.morehousehealthcare.com/physicians/pediatrics/levine-david.php\n",
      "https://www.morehousehealthcare.com/physicians/pediatrics/mathis-nicole.php\n",
      "https://www.morehousehealthcare.com/physicians/pediatrics/menchan-barbara.php\n",
      "https://www.morehousehealthcare.com/physicians/psychiatry/bharmal-farzana.php\n",
      "https://www.morehousehealthcare.com/physicians/psychiatry/chandora-aalok.php\n",
      "https://www.morehousehealthcare.com/physicians/psychiatry/garrison-shawn.php\n",
      "https://www.morehousehealthcare.com/physicians/psychiatry/vinson-sarah.php\n",
      "https://www.morehousehealthcare.com/physicians/surgery/childs-ed.php\n",
      "https://www.morehousehealthcare.com/physicians/surgery/hart-sutton-erica.php\n",
      "https://www.morehousehealthcare.com/physicians/surgery/henry-brandon.php\n",
      "https://www.morehousehealthcare.com/physicians/surgery/hobson-larry.php\n",
      "https://www.morehousehealthcare.com/physicians/surgery/johnson-shaneeta.php\n",
      "https://www.morehousehealthcare.com/physicians/surgery/okoli-joel.php\n",
      "https://www.morehousehealthcare.com/physicians/surgery/sutton-erica.php\n",
      "56\n"
     ]
    }
   ],
   "source": [
    "import requests\n",
    "import json\n",
    "\n",
    "base_url = 'https://www.morehousehealthcare.com'\n",
    "url = 'https://www.morehousehealthcare.com/_resources/php/profiles.php?_=1713593961804'\n",
    "headers = {\n",
    "    'User-Agent': 'Mozilla/5.0 (Windows NT 10.0; Win64; x64) AppleWebKit/537.36 (KHTML, like Gecko) Chrome/123.0.0.0 Safari/537.36',\n",
    "    'Accept': 'application/json, text/javascript, */*; q=0.01',\n",
    "    'Accept-Language': 'en-US,en;q=0.9',\n",
    "    'Cookie': '_ga=GA1.1.1036825168.1711640003; __utmc=50248890; __utmz=50248890.1711640003.1.1.utmcsr=(direct)|utmccn=(direct)|utmcmd=(none); __utma=50248890.1036825168.1711640003.1712506235.1713593845.6; __utmt=1; __utmb=50248890.2.10.1713593845; _ga_CG7Z26D18T=GS1.1.1713593845.6.1.1713593962.0.0.0'\n",
    "}\n",
    "\n",
    "r = requests.get(url, headers=headers)\n",
    "data = r.json()\n",
    "profiles = []\n",
    "\n",
    "# Iterate over each item in the 'data' list\n",
    "for item in data['data']:\n",
    "    # Check if 'name' exists in the current item\n",
    "    if 'name' in item:\n",
    "        # Check if 'link' exists under 'name'\n",
    "        if 'link' in item['name']:\n",
    "            # Print the value of 'link'\n",
    "            doc_url = base_url + item['name']['link']\n",
    "            print(doc_url)\n",
    "            profiles.append(doc_url)\n",
    "\n",
    "print(len(profiles))\n"
   ]
  },
  {
   "cell_type": "markdown",
   "metadata": {},
   "source": [
    "# Wellstar"
   ]
  },
  {
   "cell_type": "code",
   "execution_count": null,
   "metadata": {},
   "outputs": [],
   "source": [
    "import requests\n",
    "import json\n",
    "\n",
    "url = 'https://www.wellstar.org/api/PhysicianSearchApi/PhysicianSearch'\n",
    "payload = {\n",
    "        \"searchTerm\":\"\",\n",
    "        \"filters\":\"iswellstargroup_cf_b:true\",\n",
    "        \"distance\":\"\",\n",
    "        \"locationCurrent\":\"false\",\n",
    "        \"near\":\"\",\n",
    "        \"filtersAreDefault\":\"false\"\n",
    "}\n",
    "headers = {\n",
    "    'Accept': '*/*',\n",
    "    'Accept-Encoding': 'gzip, deflate, br, zstd',\n",
    "    'Accept-Language': 'en-US,en;q=0.9',\n",
    "    'Cookie': 'ASP.NET_SessionId=cvn0fyxjiak3rbktmxvwqgpr; __RequestVerificationToken=2CqAN1190eN8yEzFWLd8u0fwYP7bU1V1f9kSGxhzAorTSUBbOHp40TlFeVIw1pQAxTdzm-pdDAiMFcC1CuKLFjwsv3FXM3Fw1lz9E-4ydnk1; sxa_site=WellStarOrg; ARRAffinity=f37b70acb88c9f9e6438588d62ef9d009db1409a9630fa96990133e41fa19a29; ARRAffinitySameSite=f37b70acb88c9f9e6438588d62ef9d009db1409a9630fa96990133e41fa19a29; SC_ANALYTICS_GLOBAL_COOKIE=16ea3e2ffe8c429e92dd64f727264858|True; _gcl_au=1.1.1731482274.1711549054; _ga=GA1.1.537013390.1711549054; msd365mkttr=JAKxkccGDBFDLK2Z7RsS7p8YhGgfH3kyQm3qK07m; msd365mkttrs=llLDwRsM; _ga_BM192ND27H=GS1.1.1713686241.13.1.1713686283.18.0.0',\n",
    "    'Sec-Ch-Ua': '\"Google Chrome\";v=\"123\", \"Not:A-Brand\";v=\"8\", \"Chromium\";v=\"123\"',\n",
    "    'Sec-Ch-Ua-Mobile': '?0',\n",
    "    'Sec-Ch-Ua-Platform': '\"Windows\"',\n",
    "    'Sec-Fetch-Dest': 'empty',\n",
    "    'Sec-Fetch-Mode': 'cors',\n",
    "    'Sec-Fetch-Site': 'same-origin',\n",
    "    'User-Agent': 'Mozilla/5.0 (Windows NT 10.0; Win64; x64) AppleWebKit/537.36 (KHTML, like Gecko) Chrome/124.0.0.0 Safari/537.36',\n",
    "    'Content-Type': 'application/json'\n",
    "}\n",
    "\n",
    "r = requests.post(url, headers=headers, data=payload)\n",
    "print(r.text)\n"
   ]
  },
  {
   "cell_type": "code",
   "execution_count": 62,
   "metadata": {},
   "outputs": [
    {
     "ename": "InvalidHeader",
     "evalue": "Invalid leading whitespace, reserved character(s), or returncharacter(s) in header name: ':authority'",
     "output_type": "error",
     "traceback": [
      "\u001b[1;31m---------------------------------------------------------------------------\u001b[0m",
      "\u001b[1;31mInvalidHeader\u001b[0m                             Traceback (most recent call last)",
      "Cell \u001b[1;32mIn[62], line 39\u001b[0m\n\u001b[0;32m      5\u001b[0m payload \u001b[38;5;241m=\u001b[39m {\n\u001b[0;32m      6\u001b[0m         \u001b[38;5;124m\"\u001b[39m\u001b[38;5;124msearchTerm\u001b[39m\u001b[38;5;124m\"\u001b[39m:\u001b[38;5;124m\"\u001b[39m\u001b[38;5;124m\"\u001b[39m,\n\u001b[0;32m      7\u001b[0m         \u001b[38;5;124m\"\u001b[39m\u001b[38;5;124mfilters\u001b[39m\u001b[38;5;124m\"\u001b[39m:\u001b[38;5;124m\"\u001b[39m\u001b[38;5;124miswellstargroup_cf_b:true\u001b[39m\u001b[38;5;124m\"\u001b[39m,\n\u001b[1;32m   (...)\u001b[0m\n\u001b[0;32m     11\u001b[0m         \u001b[38;5;124m\"\u001b[39m\u001b[38;5;124mfiltersAreDefault\u001b[39m\u001b[38;5;124m\"\u001b[39m:\u001b[38;5;124m\"\u001b[39m\u001b[38;5;124mfalse\u001b[39m\u001b[38;5;124m\"\u001b[39m\n\u001b[0;32m     12\u001b[0m }\n\u001b[0;32m     14\u001b[0m headers \u001b[38;5;241m=\u001b[39m {\n\u001b[0;32m     15\u001b[0m     \u001b[38;5;124m\"\u001b[39m\u001b[38;5;124m:authority\u001b[39m\u001b[38;5;124m\"\u001b[39m: \u001b[38;5;124m\"\u001b[39m\u001b[38;5;124mwww.wellstar.org\u001b[39m\u001b[38;5;124m\"\u001b[39m,\n\u001b[0;32m     16\u001b[0m     \u001b[38;5;124m\"\u001b[39m\u001b[38;5;124m:method\u001b[39m\u001b[38;5;124m\"\u001b[39m: \u001b[38;5;124m\"\u001b[39m\u001b[38;5;124mPOST\u001b[39m\u001b[38;5;124m\"\u001b[39m,\n\u001b[1;32m   (...)\u001b[0m\n\u001b[0;32m     36\u001b[0m     \u001b[38;5;124m\"\u001b[39m\u001b[38;5;124mUser-Agent\u001b[39m\u001b[38;5;124m\"\u001b[39m: \u001b[38;5;124m\"\u001b[39m\u001b[38;5;124mMozilla/5.0 (Windows NT 10.0; Win64; x64) AppleWebKit/537.36 (KHTML, like Gecko) Chrome/124.0.0.0 Safari/537.36\u001b[39m\u001b[38;5;124m\"\u001b[39m\n\u001b[0;32m     37\u001b[0m }\n\u001b[1;32m---> 39\u001b[0m r \u001b[38;5;241m=\u001b[39m \u001b[43mrequests\u001b[49m\u001b[38;5;241;43m.\u001b[39;49m\u001b[43mpost\u001b[49m\u001b[43m(\u001b[49m\u001b[43murl\u001b[49m\u001b[43m,\u001b[49m\u001b[43m \u001b[49m\u001b[43mheaders\u001b[49m\u001b[38;5;241;43m=\u001b[39;49m\u001b[43mheaders\u001b[49m\u001b[43m)\u001b[49m\n\u001b[0;32m     40\u001b[0m \u001b[38;5;28mprint\u001b[39m(r\u001b[38;5;241m.\u001b[39mtext)\n",
      "File \u001b[1;32mc:\\Users\\nyaya\\AppData\\Local\\Programs\\Python\\Python310\\lib\\site-packages\\requests\\api.py:115\u001b[0m, in \u001b[0;36mpost\u001b[1;34m(url, data, json, **kwargs)\u001b[0m\n\u001b[0;32m    103\u001b[0m \u001b[38;5;28;01mdef\u001b[39;00m \u001b[38;5;21mpost\u001b[39m(url, data\u001b[38;5;241m=\u001b[39m\u001b[38;5;28;01mNone\u001b[39;00m, json\u001b[38;5;241m=\u001b[39m\u001b[38;5;28;01mNone\u001b[39;00m, \u001b[38;5;241m*\u001b[39m\u001b[38;5;241m*\u001b[39mkwargs):\n\u001b[0;32m    104\u001b[0m \u001b[38;5;250m    \u001b[39m\u001b[38;5;124mr\u001b[39m\u001b[38;5;124;03m\"\"\"Sends a POST request.\u001b[39;00m\n\u001b[0;32m    105\u001b[0m \n\u001b[0;32m    106\u001b[0m \u001b[38;5;124;03m    :param url: URL for the new :class:`Request` object.\u001b[39;00m\n\u001b[1;32m   (...)\u001b[0m\n\u001b[0;32m    112\u001b[0m \u001b[38;5;124;03m    :rtype: requests.Response\u001b[39;00m\n\u001b[0;32m    113\u001b[0m \u001b[38;5;124;03m    \"\"\"\u001b[39;00m\n\u001b[1;32m--> 115\u001b[0m     \u001b[38;5;28;01mreturn\u001b[39;00m request(\u001b[38;5;124m\"\u001b[39m\u001b[38;5;124mpost\u001b[39m\u001b[38;5;124m\"\u001b[39m, url, data\u001b[38;5;241m=\u001b[39mdata, json\u001b[38;5;241m=\u001b[39mjson, \u001b[38;5;241m*\u001b[39m\u001b[38;5;241m*\u001b[39mkwargs)\n",
      "File \u001b[1;32mc:\\Users\\nyaya\\AppData\\Local\\Programs\\Python\\Python310\\lib\\site-packages\\requests\\api.py:59\u001b[0m, in \u001b[0;36mrequest\u001b[1;34m(method, url, **kwargs)\u001b[0m\n\u001b[0;32m     55\u001b[0m \u001b[38;5;66;03m# By using the 'with' statement we are sure the session is closed, thus we\u001b[39;00m\n\u001b[0;32m     56\u001b[0m \u001b[38;5;66;03m# avoid leaving sockets open which can trigger a ResourceWarning in some\u001b[39;00m\n\u001b[0;32m     57\u001b[0m \u001b[38;5;66;03m# cases, and look like a memory leak in others.\u001b[39;00m\n\u001b[0;32m     58\u001b[0m \u001b[38;5;28;01mwith\u001b[39;00m sessions\u001b[38;5;241m.\u001b[39mSession() \u001b[38;5;28;01mas\u001b[39;00m session:\n\u001b[1;32m---> 59\u001b[0m     \u001b[38;5;28;01mreturn\u001b[39;00m session\u001b[38;5;241m.\u001b[39mrequest(method\u001b[38;5;241m=\u001b[39mmethod, url\u001b[38;5;241m=\u001b[39murl, \u001b[38;5;241m*\u001b[39m\u001b[38;5;241m*\u001b[39mkwargs)\n",
      "File \u001b[1;32mc:\\Users\\nyaya\\AppData\\Local\\Programs\\Python\\Python310\\lib\\site-packages\\requests\\sessions.py:573\u001b[0m, in \u001b[0;36mSession.request\u001b[1;34m(self, method, url, params, data, headers, cookies, files, auth, timeout, allow_redirects, proxies, hooks, stream, verify, cert, json)\u001b[0m\n\u001b[0;32m    560\u001b[0m \u001b[38;5;66;03m# Create the Request.\u001b[39;00m\n\u001b[0;32m    561\u001b[0m req \u001b[38;5;241m=\u001b[39m Request(\n\u001b[0;32m    562\u001b[0m     method\u001b[38;5;241m=\u001b[39mmethod\u001b[38;5;241m.\u001b[39mupper(),\n\u001b[0;32m    563\u001b[0m     url\u001b[38;5;241m=\u001b[39murl,\n\u001b[1;32m   (...)\u001b[0m\n\u001b[0;32m    571\u001b[0m     hooks\u001b[38;5;241m=\u001b[39mhooks,\n\u001b[0;32m    572\u001b[0m )\n\u001b[1;32m--> 573\u001b[0m prep \u001b[38;5;241m=\u001b[39m \u001b[38;5;28;43mself\u001b[39;49m\u001b[38;5;241;43m.\u001b[39;49m\u001b[43mprepare_request\u001b[49m\u001b[43m(\u001b[49m\u001b[43mreq\u001b[49m\u001b[43m)\u001b[49m\n\u001b[0;32m    575\u001b[0m proxies \u001b[38;5;241m=\u001b[39m proxies \u001b[38;5;129;01mor\u001b[39;00m {}\n\u001b[0;32m    577\u001b[0m settings \u001b[38;5;241m=\u001b[39m \u001b[38;5;28mself\u001b[39m\u001b[38;5;241m.\u001b[39mmerge_environment_settings(\n\u001b[0;32m    578\u001b[0m     prep\u001b[38;5;241m.\u001b[39murl, proxies, stream, verify, cert\n\u001b[0;32m    579\u001b[0m )\n",
      "File \u001b[1;32mc:\\Users\\nyaya\\AppData\\Local\\Programs\\Python\\Python310\\lib\\site-packages\\requests\\sessions.py:484\u001b[0m, in \u001b[0;36mSession.prepare_request\u001b[1;34m(self, request)\u001b[0m\n\u001b[0;32m    481\u001b[0m     auth \u001b[38;5;241m=\u001b[39m get_netrc_auth(request\u001b[38;5;241m.\u001b[39murl)\n\u001b[0;32m    483\u001b[0m p \u001b[38;5;241m=\u001b[39m PreparedRequest()\n\u001b[1;32m--> 484\u001b[0m \u001b[43mp\u001b[49m\u001b[38;5;241;43m.\u001b[39;49m\u001b[43mprepare\u001b[49m\u001b[43m(\u001b[49m\n\u001b[0;32m    485\u001b[0m \u001b[43m    \u001b[49m\u001b[43mmethod\u001b[49m\u001b[38;5;241;43m=\u001b[39;49m\u001b[43mrequest\u001b[49m\u001b[38;5;241;43m.\u001b[39;49m\u001b[43mmethod\u001b[49m\u001b[38;5;241;43m.\u001b[39;49m\u001b[43mupper\u001b[49m\u001b[43m(\u001b[49m\u001b[43m)\u001b[49m\u001b[43m,\u001b[49m\n\u001b[0;32m    486\u001b[0m \u001b[43m    \u001b[49m\u001b[43murl\u001b[49m\u001b[38;5;241;43m=\u001b[39;49m\u001b[43mrequest\u001b[49m\u001b[38;5;241;43m.\u001b[39;49m\u001b[43murl\u001b[49m\u001b[43m,\u001b[49m\n\u001b[0;32m    487\u001b[0m \u001b[43m    \u001b[49m\u001b[43mfiles\u001b[49m\u001b[38;5;241;43m=\u001b[39;49m\u001b[43mrequest\u001b[49m\u001b[38;5;241;43m.\u001b[39;49m\u001b[43mfiles\u001b[49m\u001b[43m,\u001b[49m\n\u001b[0;32m    488\u001b[0m \u001b[43m    \u001b[49m\u001b[43mdata\u001b[49m\u001b[38;5;241;43m=\u001b[39;49m\u001b[43mrequest\u001b[49m\u001b[38;5;241;43m.\u001b[39;49m\u001b[43mdata\u001b[49m\u001b[43m,\u001b[49m\n\u001b[0;32m    489\u001b[0m \u001b[43m    \u001b[49m\u001b[43mjson\u001b[49m\u001b[38;5;241;43m=\u001b[39;49m\u001b[43mrequest\u001b[49m\u001b[38;5;241;43m.\u001b[39;49m\u001b[43mjson\u001b[49m\u001b[43m,\u001b[49m\n\u001b[0;32m    490\u001b[0m \u001b[43m    \u001b[49m\u001b[43mheaders\u001b[49m\u001b[38;5;241;43m=\u001b[39;49m\u001b[43mmerge_setting\u001b[49m\u001b[43m(\u001b[49m\n\u001b[0;32m    491\u001b[0m \u001b[43m        \u001b[49m\u001b[43mrequest\u001b[49m\u001b[38;5;241;43m.\u001b[39;49m\u001b[43mheaders\u001b[49m\u001b[43m,\u001b[49m\u001b[43m \u001b[49m\u001b[38;5;28;43mself\u001b[39;49m\u001b[38;5;241;43m.\u001b[39;49m\u001b[43mheaders\u001b[49m\u001b[43m,\u001b[49m\u001b[43m \u001b[49m\u001b[43mdict_class\u001b[49m\u001b[38;5;241;43m=\u001b[39;49m\u001b[43mCaseInsensitiveDict\u001b[49m\n\u001b[0;32m    492\u001b[0m \u001b[43m    \u001b[49m\u001b[43m)\u001b[49m\u001b[43m,\u001b[49m\n\u001b[0;32m    493\u001b[0m \u001b[43m    \u001b[49m\u001b[43mparams\u001b[49m\u001b[38;5;241;43m=\u001b[39;49m\u001b[43mmerge_setting\u001b[49m\u001b[43m(\u001b[49m\u001b[43mrequest\u001b[49m\u001b[38;5;241;43m.\u001b[39;49m\u001b[43mparams\u001b[49m\u001b[43m,\u001b[49m\u001b[43m \u001b[49m\u001b[38;5;28;43mself\u001b[39;49m\u001b[38;5;241;43m.\u001b[39;49m\u001b[43mparams\u001b[49m\u001b[43m)\u001b[49m\u001b[43m,\u001b[49m\n\u001b[0;32m    494\u001b[0m \u001b[43m    \u001b[49m\u001b[43mauth\u001b[49m\u001b[38;5;241;43m=\u001b[39;49m\u001b[43mmerge_setting\u001b[49m\u001b[43m(\u001b[49m\u001b[43mauth\u001b[49m\u001b[43m,\u001b[49m\u001b[43m \u001b[49m\u001b[38;5;28;43mself\u001b[39;49m\u001b[38;5;241;43m.\u001b[39;49m\u001b[43mauth\u001b[49m\u001b[43m)\u001b[49m\u001b[43m,\u001b[49m\n\u001b[0;32m    495\u001b[0m \u001b[43m    \u001b[49m\u001b[43mcookies\u001b[49m\u001b[38;5;241;43m=\u001b[39;49m\u001b[43mmerged_cookies\u001b[49m\u001b[43m,\u001b[49m\n\u001b[0;32m    496\u001b[0m \u001b[43m    \u001b[49m\u001b[43mhooks\u001b[49m\u001b[38;5;241;43m=\u001b[39;49m\u001b[43mmerge_hooks\u001b[49m\u001b[43m(\u001b[49m\u001b[43mrequest\u001b[49m\u001b[38;5;241;43m.\u001b[39;49m\u001b[43mhooks\u001b[49m\u001b[43m,\u001b[49m\u001b[43m \u001b[49m\u001b[38;5;28;43mself\u001b[39;49m\u001b[38;5;241;43m.\u001b[39;49m\u001b[43mhooks\u001b[49m\u001b[43m)\u001b[49m\u001b[43m,\u001b[49m\n\u001b[0;32m    497\u001b[0m \u001b[43m\u001b[49m\u001b[43m)\u001b[49m\n\u001b[0;32m    498\u001b[0m \u001b[38;5;28;01mreturn\u001b[39;00m p\n",
      "File \u001b[1;32mc:\\Users\\nyaya\\AppData\\Local\\Programs\\Python\\Python310\\lib\\site-packages\\requests\\models.py:369\u001b[0m, in \u001b[0;36mPreparedRequest.prepare\u001b[1;34m(self, method, url, headers, files, data, params, auth, cookies, hooks, json)\u001b[0m\n\u001b[0;32m    367\u001b[0m \u001b[38;5;28mself\u001b[39m\u001b[38;5;241m.\u001b[39mprepare_method(method)\n\u001b[0;32m    368\u001b[0m \u001b[38;5;28mself\u001b[39m\u001b[38;5;241m.\u001b[39mprepare_url(url, params)\n\u001b[1;32m--> 369\u001b[0m \u001b[38;5;28;43mself\u001b[39;49m\u001b[38;5;241;43m.\u001b[39;49m\u001b[43mprepare_headers\u001b[49m\u001b[43m(\u001b[49m\u001b[43mheaders\u001b[49m\u001b[43m)\u001b[49m\n\u001b[0;32m    370\u001b[0m \u001b[38;5;28mself\u001b[39m\u001b[38;5;241m.\u001b[39mprepare_cookies(cookies)\n\u001b[0;32m    371\u001b[0m \u001b[38;5;28mself\u001b[39m\u001b[38;5;241m.\u001b[39mprepare_body(data, files, json)\n",
      "File \u001b[1;32mc:\\Users\\nyaya\\AppData\\Local\\Programs\\Python\\Python310\\lib\\site-packages\\requests\\models.py:491\u001b[0m, in \u001b[0;36mPreparedRequest.prepare_headers\u001b[1;34m(self, headers)\u001b[0m\n\u001b[0;32m    488\u001b[0m \u001b[38;5;28;01mif\u001b[39;00m headers:\n\u001b[0;32m    489\u001b[0m     \u001b[38;5;28;01mfor\u001b[39;00m header \u001b[38;5;129;01min\u001b[39;00m headers\u001b[38;5;241m.\u001b[39mitems():\n\u001b[0;32m    490\u001b[0m         \u001b[38;5;66;03m# Raise exception on invalid header value.\u001b[39;00m\n\u001b[1;32m--> 491\u001b[0m         \u001b[43mcheck_header_validity\u001b[49m\u001b[43m(\u001b[49m\u001b[43mheader\u001b[49m\u001b[43m)\u001b[49m\n\u001b[0;32m    492\u001b[0m         name, value \u001b[38;5;241m=\u001b[39m header\n\u001b[0;32m    493\u001b[0m         \u001b[38;5;28mself\u001b[39m\u001b[38;5;241m.\u001b[39mheaders[to_native_string(name)] \u001b[38;5;241m=\u001b[39m value\n",
      "File \u001b[1;32mc:\\Users\\nyaya\\AppData\\Local\\Programs\\Python\\Python310\\lib\\site-packages\\requests\\utils.py:1042\u001b[0m, in \u001b[0;36mcheck_header_validity\u001b[1;34m(header)\u001b[0m\n\u001b[0;32m   1036\u001b[0m     \u001b[38;5;28;01mif\u001b[39;00m \u001b[38;5;28mtype\u001b[39m(part) \u001b[38;5;129;01mnot\u001b[39;00m \u001b[38;5;129;01min\u001b[39;00m HEADER_VALIDATORS:\n\u001b[0;32m   1037\u001b[0m         \u001b[38;5;28;01mraise\u001b[39;00m InvalidHeader(\n\u001b[0;32m   1038\u001b[0m             \u001b[38;5;124mf\u001b[39m\u001b[38;5;124m\"\u001b[39m\u001b[38;5;124mHeader part (\u001b[39m\u001b[38;5;132;01m{\u001b[39;00mpart\u001b[38;5;132;01m!r}\u001b[39;00m\u001b[38;5;124m) from \u001b[39m\u001b[38;5;130;01m{{\u001b[39;00m\u001b[38;5;132;01m{\u001b[39;00mname\u001b[38;5;132;01m!r}\u001b[39;00m\u001b[38;5;124m: \u001b[39m\u001b[38;5;132;01m{\u001b[39;00mvalue\u001b[38;5;132;01m!r}\u001b[39;00m\u001b[38;5;130;01m}}\u001b[39;00m\u001b[38;5;124m must be \u001b[39m\u001b[38;5;124m\"\u001b[39m\n\u001b[0;32m   1039\u001b[0m             \u001b[38;5;124mf\u001b[39m\u001b[38;5;124m\"\u001b[39m\u001b[38;5;124mof type str or bytes, not \u001b[39m\u001b[38;5;132;01m{\u001b[39;00m\u001b[38;5;28mtype\u001b[39m(part)\u001b[38;5;132;01m}\u001b[39;00m\u001b[38;5;124m\"\u001b[39m\n\u001b[0;32m   1040\u001b[0m         )\n\u001b[1;32m-> 1042\u001b[0m \u001b[43m_validate_header_part\u001b[49m\u001b[43m(\u001b[49m\u001b[43mname\u001b[49m\u001b[43m,\u001b[49m\u001b[43m \u001b[49m\u001b[38;5;124;43m\"\u001b[39;49m\u001b[38;5;124;43mname\u001b[39;49m\u001b[38;5;124;43m\"\u001b[39;49m\u001b[43m,\u001b[49m\u001b[43m \u001b[49m\u001b[43mHEADER_VALIDATORS\u001b[49m\u001b[43m[\u001b[49m\u001b[38;5;28;43mtype\u001b[39;49m\u001b[43m(\u001b[49m\u001b[43mname\u001b[49m\u001b[43m)\u001b[49m\u001b[43m]\u001b[49m\u001b[43m[\u001b[49m\u001b[38;5;241;43m0\u001b[39;49m\u001b[43m]\u001b[49m\u001b[43m)\u001b[49m\n\u001b[0;32m   1043\u001b[0m _validate_header_part(value, \u001b[38;5;124m\"\u001b[39m\u001b[38;5;124mvalue\u001b[39m\u001b[38;5;124m\"\u001b[39m, HEADER_VALIDATORS[\u001b[38;5;28mtype\u001b[39m(value)][\u001b[38;5;241m1\u001b[39m])\n",
      "File \u001b[1;32mc:\\Users\\nyaya\\AppData\\Local\\Programs\\Python\\Python310\\lib\\site-packages\\requests\\utils.py:1048\u001b[0m, in \u001b[0;36m_validate_header_part\u001b[1;34m(header_part, header_kind, validator)\u001b[0m\n\u001b[0;32m   1046\u001b[0m \u001b[38;5;28;01mdef\u001b[39;00m \u001b[38;5;21m_validate_header_part\u001b[39m(header_part, header_kind, validator):\n\u001b[0;32m   1047\u001b[0m     \u001b[38;5;28;01mif\u001b[39;00m \u001b[38;5;129;01mnot\u001b[39;00m validator\u001b[38;5;241m.\u001b[39mmatch(header_part):\n\u001b[1;32m-> 1048\u001b[0m         \u001b[38;5;28;01mraise\u001b[39;00m InvalidHeader(\n\u001b[0;32m   1049\u001b[0m             \u001b[38;5;124mf\u001b[39m\u001b[38;5;124m\"\u001b[39m\u001b[38;5;124mInvalid leading whitespace, reserved character(s), or return\u001b[39m\u001b[38;5;124m\"\u001b[39m\n\u001b[0;32m   1050\u001b[0m             \u001b[38;5;124mf\u001b[39m\u001b[38;5;124m\"\u001b[39m\u001b[38;5;124mcharacter(s) in header \u001b[39m\u001b[38;5;132;01m{\u001b[39;00mheader_kind\u001b[38;5;132;01m}\u001b[39;00m\u001b[38;5;124m: \u001b[39m\u001b[38;5;132;01m{\u001b[39;00mheader_part\u001b[38;5;132;01m!r}\u001b[39;00m\u001b[38;5;124m\"\u001b[39m\n\u001b[0;32m   1051\u001b[0m         )\n",
      "\u001b[1;31mInvalidHeader\u001b[0m: Invalid leading whitespace, reserved character(s), or returncharacter(s) in header name: ':authority'"
     ]
    }
   ],
   "source": [
    "import requests\n",
    "import json\n",
    "\n",
    "url = 'https://www.wellstar.org/api/PhysicianSearchApi/PhysicianSearch'\n",
    "payload = {\n",
    "        \"searchTerm\":\"\",\n",
    "        \"filters\":\"iswellstargroup_cf_b:true\",\n",
    "        \"distance\":\"\",\n",
    "        \"locationCurrent\":\"false\",\n",
    "        \"near\":\"\",\n",
    "        \"filtersAreDefault\":\"false\"\n",
    "}\n",
    "\n",
    "headers = {\n",
    "    \":authority\": \"www.wellstar.org\",\n",
    "    \":method\": \"POST\",\n",
    "    \":path\": \"/api/PhysicianSearchApi/PhysicianSearch\",\n",
    "    \":scheme\": \"https\",\n",
    "    \"__requestverificationtoken\": \"NQJOsX3O1CKFCgxq1m3RjqxsVkLcQnWiahm1ON-1jHuEx_LZFlOK2nm2_Nq5_7W9XZJq1ceQP8El6--OUTvwt2or0xKaZ5MrD_DUKdgUxMo1\",\n",
    "    \"Accept\": \"*/*\",\n",
    "    \"Accept-Encoding\": \"gzip, deflate, br, zstd\",\n",
    "    \"Accept-Language\": \"en-US,en;q=0.9\",\n",
    "    \"Content-Length\": \"129\",\n",
    "    \"Content-Type\": \"application/json\",\n",
    "    \"Cookie\": \"ASP.NET_SessionId=cvn0fyxjiak3rbktmxvwqgpr; __RequestVerificationToken=2CqAN1190eN8yEzFWLd8u0fwYP7bU1V1f9kSGxhzAorTSUBbOHp40TlFeVIw1pQAxTdzm-pdDAiMFcC1CuKLFjwsv3FXM3Fw1lz9E-4ydnk1; sxa_site=WellStarOrg; ARRAffinity=f37b70acb88c9f9e6438588d62ef9d009db1409a9630fa96990133e41fa19a29; ARRAffinitySameSite=f37b70acb88c9f9e6438588d62ef9d009db1409a9630fa96990133e41fa19a29; SC_ANALYTICS_GLOBAL_COOKIE=16ea3e2ffe8c429e92dd64f727264858|True; _gcl_au=1.1.1731482274.1711549054; _ga=GA1.1.537013390.1711549054; msd365mkttr=JAKxkccGDBFDLK2Z7RsS7p8YhGgfH3kyQm3qK07m; msd365mkttrs=llLDwRsM; _ga_BM192ND27H=GS1.1.1714038838.16.1.1714038879.19.0.0\",\n",
    "    \"Dnt\": \"1\",\n",
    "    \"Origin\": \"https://www.wellstar.org\",\n",
    "    \"Priority\": \"u=1, i\",\n",
    "    \"Referer\": \"https://www.wellstar.org/physicians?wellstar%2Bmedical%2Bgroup=1&v=1\",\n",
    "    \"Sec-Ch-Ua\": \"\\\"Chromium\\\";v=\\\"124\\\", \\\"Google Chrome\\\";v=\\\"124\\\", \\\"Not-A.Brand\\\";v=\\\"99\\\"\",\n",
    "    \"Sec-Ch-Ua-Mobile\": \"?0\",\n",
    "    \"Sec-Ch-Ua-Platform\": \"\\\"Windows\\\"\",\n",
    "    \"Sec-Fetch-Dest\": \"empty\",\n",
    "    \"Sec-Fetch-Mode\": \"cors\",\n",
    "    \"Sec-Fetch-Site\": \"same-origin\",\n",
    "    \"User-Agent\": \"Mozilla/5.0 (Windows NT 10.0; Win64; x64) AppleWebKit/537.36 (KHTML, like Gecko) Chrome/124.0.0.0 Safari/537.36\"\n",
    "}\n",
    "\n",
    "r = requests.post(url, headers=headers)\n",
    "print(r.text)\n"
   ]
  },
  {
   "cell_type": "code",
   "execution_count": null,
   "metadata": {},
   "outputs": [],
   "source": [
    "import requests\n",
    "import json\n",
    "\n",
    "url = 'https://www.wellstar.org/api/PhysicianSearchApi/PhysicianSearch'\n",
    "headers = {\n",
    "    'Accept': '*/*',\n",
    "    'Accept-Encoding': 'gzip, deflate, br, zstd',\n",
    "    'Accept-Language': 'en-US,en;q=0.9',\n",
    "    'Cookie': 'ASP.NET_SessionId=cvn0fyxjiak3rbktmxvwqgpr; __RequestVerificationToken=2CqAN1190eN8yEzFWLd8u0fwYP7bU1V1f9kSGxhzAorTSUBbOHp40TlFeVIw1pQAxTdzm-pdDAiMFcC1CuKLFjwsv3FXM3Fw1lz9E-4ydnk1; sxa_site=WellStarOrg; ARRAffinity=f37b70acb88c9f9e6438588d62ef9d009db1409a9630fa96990133e41fa19a29; ARRAffinitySameSite=f37b70acb88c9f9e6438588d62ef9d009db1409a9630fa96990133e41fa19a29; SC_ANALYTICS_GLOBAL_COOKIE=16ea3e2ffe8c429e92dd64f727264858|True; _gcl_au=1.1.1731482274.1711549054; _ga=GA1.1.537013390.1711549054; msd365mkttr=JAKxkccGDBFDLK2Z7RsS7p8YhGgfH3kyQm3qK07m; msd365mkttrs=llLDwRsM; _ga_BM192ND27H=GS1.1.1713686241.13.1.1713686283.18.0.0'\n",
    "}"
   ]
  },
  {
   "cell_type": "markdown",
   "metadata": {},
   "source": [
    "# Brownmed"
   ]
  },
  {
   "cell_type": "code",
   "execution_count": 36,
   "metadata": {},
   "outputs": [
    {
     "name": "stdout",
     "output_type": "stream",
     "text": [
      "94\n",
      "Location 2 done\n",
      "94\n",
      "Location 3 done\n",
      "94\n",
      "Location 4 done\n",
      "296\n",
      "Location 5 done\n",
      "308\n",
      "Location 6 done\n"
     ]
    }
   ],
   "source": [
    "from selenium import webdriver\n",
    "from selenium.webdriver.common.by import By\n",
    "import time\n",
    "\n",
    "\n",
    "url = 'https://brownmed.org/find-a-provider/'\n",
    "driver = webdriver.Chrome()\n",
    "i = 2\n",
    "profiles = []\n",
    "while i <= 6:\n",
    "    driver.get(url)\n",
    "    driver.find_element(By.XPATH, f'//select[contains(@name, \"Location\")]/option[position() = {i}]').click()\n",
    "    driver.find_element(By.XPATH, '//input[contains(@name, \"Submit\")]').click()\n",
    "    time.sleep(5)\n",
    "    doctors = driver.find_elements(By.XPATH, '//td/a')\n",
    "    for doc in doctors:\n",
    "        doc_url = doc.get_attribute('href')\n",
    "        profiles.append(doc_url)\n",
    "    print(len(profiles))\n",
    "    print(f\"Location {i} done\")\n",
    "    i= i+1\n",
    "\n",
    "driver.quit()\n"
   ]
  },
  {
   "cell_type": "markdown",
   "metadata": {},
   "source": [
    "# Brgeneral"
   ]
  },
  {
   "cell_type": "code",
   "execution_count": 52,
   "metadata": {},
   "outputs": [
    {
     "ename": "SyntaxError",
     "evalue": "incomplete input (2683464313.py, line 23)",
     "output_type": "error",
     "traceback": [
      "\u001b[1;36m  Cell \u001b[1;32mIn[52], line 23\u001b[1;36m\u001b[0m\n\u001b[1;33m    \u001b[0m\n\u001b[1;37m    ^\u001b[0m\n\u001b[1;31mSyntaxError\u001b[0m\u001b[1;31m:\u001b[0m incomplete input\n"
     ]
    }
   ],
   "source": [
    "import requests\n",
    "from lxml import html\n",
    "import time\n",
    "\n",
    "base_url = 'https://www.brgeneral.org'\n",
    "url = 'https://www.brgeneral.org/find-a-provider/'\n",
    "headers = {\n",
    "        'Accept': 'text/html,application/xhtml+xml,application/xml;q=0.9,image/avif,image/webp,image/apng,*/*;q=0.8,application/signed-exchange;v=b3;q=0.7',\n",
    "        'Accept-Encoding': 'gzip, deflate, br, zstd',\n",
    "        'Accept-Language': 'en-US,en;q=0.9',\n",
    "        'Cookie': 'SEOT=#1; T=!!; _tz=Asia%2FCalcutta; ELOQUA=GUID=EF8CD5474C204A6FA5DDF857443E0CC5; SEOV=#5; TS014cc525=0184cfe7a64104bf84a9928bf47abe55b5c5b3fa4990a4738ab8bcdc3a63834a76fabb52bf43cc5b33e87e82c2fe473bde804dcf3c',\n",
    "        'User-Agent': 'Mozilla/5.0 (Windows NT 10.0; Win64; x64) AppleWebKit/537.36 (KHTML, like Gecko) Chrome/123.0.0.0 Safari/537.36'    \n",
    "}\n",
    "profiles = []\n",
    "\n",
    "r = requests.get(url, headers=headers)\n",
    "tree = html.fromstring(r.content)\n",
    "\n",
    "doctors = tree.xpath('//li[contains(@class, \"half item\")]/a')\n",
    "for doc in doctors:\n",
    "    profiles.append(base_url + doc.attrib['href'])\n",
    "for i in profiles:\n",
    "    \n",
    "    \n"
   ]
  },
  {
   "cell_type": "markdown",
   "metadata": {},
   "source": [
    "# Rmg.nm"
   ]
  },
  {
   "cell_type": "code",
   "execution_count": 67,
   "metadata": {},
   "outputs": [
    {
     "name": "stdout",
     "output_type": "stream",
     "text": [
      "96\n",
      "96\n",
      "96\n"
     ]
    }
   ],
   "source": [
    "import requests\n",
    "from bs4 import BeautifulSoup as bs\n",
    "import time\n",
    "import json\n",
    "\n",
    "page = 1\n",
    "while page <= 42:\n",
    "    url = f'https://www.nm.org/nm-api/northwestern/physicians/GetPhysicians?latitude=41.8946401&longitude=-87.6211275&medicalgrouplist=nmg&medicalgrouplist=northwesternmedicineregionalmedicalgroup&sort=distance&page={page}&pageSize=96'\n",
    "    payload = {\n",
    "        'latitude': '41.8946401',\n",
    "        'longitude': '-87.6211275',\n",
    "        'medicalgrouplist': 'nmg',\n",
    "        'medicalgrouplist': 'northwesternmedicineregionalmedicalgroup',\n",
    "        'sort': 'distance',\n",
    "        'page': f'{page}',\n",
    "        'pageSize': '96'\n",
    "    }\n",
    "    headers = {\n",
    "        \"Accept\": \"*/*\",\n",
    "        \"Accept-Encoding\": \"gzip, deflate, br, zstd\",\n",
    "        \"Accept-Language\": \"en-US,en;q=0.9\",\n",
    "        \"Cookie\": \"ppms_privacy_4abb1e4c-f063-4207-8488-64f5e44dc7cf={%22visitorId%22:%2294e847a5-ac92-40bf-9825-05a3a2acfc7e%22%2C%22domain%22:{%22normalized%22:%22www.nm.org%22%2C%22isWildcard%22:false%2C%22pattern%22:%22www.nm.org%22}%2C%22consents%22:{%22analytics%22:{%22status%22:-1}}%2C%22staleCheckpoint%22:%222024-03-13T04:56:07.608Z%22}; ELOQUA=GUID=78639DCFE3FD4B63982CD62154F8D6DE; _hjSessionUser_1968954=eyJpZCI6Ijg0ODM3NjI1LWQ3Y2ItNTIwNS1iNTUxLTA3NThlN2E1MDY4NyIsImNyZWF0ZWQiOjE3MTAzMDU3NjY1NTEsImV4aXN0aW5nIjp0cnVlfQ==; _sg_b_v=2%3B792%3B1710307715; ppms_privacy_bar_4abb1e4c-f063-4207-8488-64f5e44dc7cf={%22status%22:true%2C%22domain%22:{%22normalized%22:%22www.nm.org%22%2C%22isWildcard%22:false%2C%22pattern%22:%22www.nm.org%22}}; _pk_ses.4abb1e4c-f063-4207-8488-64f5e44dc7cf.e154=*; _hjSession_1968954=eyJpZCI6IjIxNTRlY2UwLWQ2MGMtNGNmOC05N2RjLTYzZDk5MDRhODY4NSIsImMiOjE3MTQzMjcxMjIyMTUsInMiOjAsInIiOjAsInNiIjowLCJzciI6MCwic2UiOjAsImZzIjowfQ==; _hjDonePolls=997955%2C1006138; nmuid=56b48c58-f6f0-4e80-a00e-346216aca834; _pk_id.4abb1e4c-f063-4207-8488-64f5e44dc7cf.e154=228429dbf59e0d28.1714327077.1.1714328493.1714327077.\",\n",
    "        \"Dnt\": \"1\",\n",
    "        \"Priority\": \"u=1, i\",\n",
    "        \"Referer\": f\"https://www.nm.org/doctors/search-results?medicalgrouplist=nmg&medicalgrouplist=northwesternmedicineregionalmedicalgroup&sort=distance&page={page}&pagesize=96\",\n",
    "        \"Sec-Ch-Ua\": \"\\\"Chromium\\\";v=\\\"124\\\", \\\"Google Chrome\\\";v=\\\"124\\\", \\\"Not-A.Brand\\\";v=\\\"99\\\"\",\n",
    "        \"Sec-Ch-Ua-Mobile\": \"?0\",\n",
    "        \"Sec-Ch-Ua-Platform\": \"\\\"Windows\\\"\",\n",
    "        \"Sec-Fetch-Dest\": \"empty\",\n",
    "        \"Sec-Fetch-Mode\": \"cors\",\n",
    "        \"Sec-Fetch-Site\": \"same-origin\",\n",
    "        \"User-Agent\": \"Mozilla/5.0 (Windows NT 10.0; Win64; x64) AppleWebKit/537.36 (KHTML, like Gecko) Chrome/124.0.0.0 Safari/537.36\"\n",
    "    }\n",
    "    profiles = []\n",
    "\n",
    "    r = requests.get(url, headers=headers, data=payload)\n",
    "    time.sleep(3)\n",
    "    data = r.json()\n",
    "    for i in data['Physicians']:\n",
    "        profiles.append(i['DoctorProfileUrl'])\n",
    "    print(len(profiles))\n",
    "    page = page + 1\n",
    "\n",
    "## have to convert it into pagination"
   ]
  },
  {
   "cell_type": "code",
   "execution_count": null,
   "metadata": {},
   "outputs": [],
   "source": []
  }
 ],
 "metadata": {
  "kernelspec": {
   "display_name": "Python 3",
   "language": "python",
   "name": "python3"
  },
  "language_info": {
   "codemirror_mode": {
    "name": "ipython",
    "version": 3
   },
   "file_extension": ".py",
   "mimetype": "text/x-python",
   "name": "python",
   "nbconvert_exporter": "python",
   "pygments_lexer": "ipython3",
   "version": "3.10.11"
  }
 },
 "nbformat": 4,
 "nbformat_minor": 2
}
