{
 "cells": [
  {
   "cell_type": "code",
   "execution_count": 2,
   "id": "16aceab1-8d67-49cf-b5ba-b01575396c8e",
   "metadata": {},
   "outputs": [
    {
     "ename": "NameError",
     "evalue": "name 'raw_input' is not defined",
     "output_type": "error",
     "traceback": [
      "\u001b[1;31m---------------------------------------------------------------------------\u001b[0m",
      "\u001b[1;31mNameError\u001b[0m                                 Traceback (most recent call last)",
      "Cell \u001b[1;32mIn[2], line 2\u001b[0m\n\u001b[0;32m      1\u001b[0m \u001b[38;5;66;03m#armstrong \u001b[39;00m\n\u001b[1;32m----> 2\u001b[0m num \u001b[38;5;241m=\u001b[39m \u001b[43mraw_input\u001b[49m(\u001b[38;5;124m\"\u001b[39m\u001b[38;5;124mEnter a three digit number to check if its a armstrong number: \u001b[39m\u001b[38;5;124m\"\u001b[39m)\n\u001b[0;32m      3\u001b[0m a \u001b[38;5;241m=\u001b[39m \u001b[38;5;28mstr\u001b[39m(num)\n\u001b[0;32m      4\u001b[0m b \u001b[38;5;241m=\u001b[39m \u001b[38;5;28mint\u001b[39m(num)\n",
      "\u001b[1;31mNameError\u001b[0m: name 'raw_input' is not defined"
     ]
    }
   ],
   "source": [
    "#armstrong \n",
    "num = raw_input(\"Enter a three digit number to check if its a armstrong number: \")\n",
    "a = str(num)\n",
    "b = int(num)\n",
    "if (b>=100 and b<=999):\n",
    "    dig1 = int(a[0])\n",
    "    dig2 = int(a[1])\n",
    "    dig3 = int(a[2])\n",
    "    sum1 = (dig1**3) + (dig2**3) + (dig3**3)\n",
    "    print (\"\\n\\nSum of cubes of digits is: \" + str(sum1))\n",
    "    if (b == sum1):\n",
    "        print (\"\\n\\n\" + num + \" is an armstrong number.\")\n",
    "    else:\n",
    "        print (\"\\n\\n\" + num + \" is not an armstrong number.\")\n",
    "\n",
    "else:\n",
    "    print (\"\\n\\n\" + num + \" is not an three digit number.\")\n",
    "\n",
    "x = raw_input(\"\\n\\nPress any key to exit.\")"
   ]
  },
  {
   "cell_type": "code",
   "execution_count": null,
   "id": "2605b828-1189-4fbb-b47b-828fb6e82a6b",
   "metadata": {},
   "outputs": [],
   "source": []
  }
 ],
 "metadata": {
  "kernelspec": {
   "display_name": "Python 3 (ipykernel)",
   "language": "python",
   "name": "python3"
  },
  "language_info": {
   "codemirror_mode": {
    "name": "ipython",
    "version": 3
   },
   "file_extension": ".py",
   "mimetype": "text/x-python",
   "name": "python",
   "nbconvert_exporter": "python",
   "pygments_lexer": "ipython3",
   "version": "3.10.11"
  }
 },
 "nbformat": 4,
 "nbformat_minor": 5
}
